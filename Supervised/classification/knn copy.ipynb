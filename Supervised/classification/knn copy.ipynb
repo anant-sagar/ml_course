{
 "cells": [
  {
   "cell_type": "code",
   "execution_count": 5,
   "metadata": {},
   "outputs": [],
   "source": [
    "import pandas as pd\n",
    "from sklearn.model_selection import train_test_split,GridSearchCV\n",
    "from sklearn.linear_model import LogisticRegression\n",
    "import matplotlib.pyplot as plt\n",
    "from sklearn.preprocessing import StandardScaler\n",
    "from sklearn.neighbors import KNeighborsClassifier\n",
    "from joblib import dump, load"
   ]
  },
  {
   "cell_type": "code",
   "execution_count": 6,
   "metadata": {},
   "outputs": [
    {
     "data": {
      "text/html": [
       "<div>\n",
       "<style scoped>\n",
       "    .dataframe tbody tr th:only-of-type {\n",
       "        vertical-align: middle;\n",
       "    }\n",
       "\n",
       "    .dataframe tbody tr th {\n",
       "        vertical-align: top;\n",
       "    }\n",
       "\n",
       "    .dataframe thead th {\n",
       "        text-align: right;\n",
       "    }\n",
       "</style>\n",
       "<table border=\"1\" class=\"dataframe\">\n",
       "  <thead>\n",
       "    <tr style=\"text-align: right;\">\n",
       "      <th></th>\n",
       "      <th>Pregnancies</th>\n",
       "      <th>Glucose</th>\n",
       "      <th>BloodPressure</th>\n",
       "      <th>SkinThickness</th>\n",
       "      <th>Insulin</th>\n",
       "      <th>BMI</th>\n",
       "      <th>DiabetesPedigreeFunction</th>\n",
       "      <th>Age</th>\n",
       "      <th>Outcome</th>\n",
       "    </tr>\n",
       "  </thead>\n",
       "  <tbody>\n",
       "    <tr>\n",
       "      <th>0</th>\n",
       "      <td>6</td>\n",
       "      <td>148</td>\n",
       "      <td>72</td>\n",
       "      <td>35</td>\n",
       "      <td>0</td>\n",
       "      <td>33.6</td>\n",
       "      <td>0.627</td>\n",
       "      <td>50</td>\n",
       "      <td>1</td>\n",
       "    </tr>\n",
       "    <tr>\n",
       "      <th>1</th>\n",
       "      <td>1</td>\n",
       "      <td>85</td>\n",
       "      <td>66</td>\n",
       "      <td>29</td>\n",
       "      <td>0</td>\n",
       "      <td>26.6</td>\n",
       "      <td>0.351</td>\n",
       "      <td>31</td>\n",
       "      <td>0</td>\n",
       "    </tr>\n",
       "    <tr>\n",
       "      <th>2</th>\n",
       "      <td>8</td>\n",
       "      <td>183</td>\n",
       "      <td>64</td>\n",
       "      <td>0</td>\n",
       "      <td>0</td>\n",
       "      <td>23.3</td>\n",
       "      <td>0.672</td>\n",
       "      <td>32</td>\n",
       "      <td>1</td>\n",
       "    </tr>\n",
       "    <tr>\n",
       "      <th>3</th>\n",
       "      <td>1</td>\n",
       "      <td>89</td>\n",
       "      <td>66</td>\n",
       "      <td>23</td>\n",
       "      <td>94</td>\n",
       "      <td>28.1</td>\n",
       "      <td>0.167</td>\n",
       "      <td>21</td>\n",
       "      <td>0</td>\n",
       "    </tr>\n",
       "    <tr>\n",
       "      <th>4</th>\n",
       "      <td>0</td>\n",
       "      <td>137</td>\n",
       "      <td>40</td>\n",
       "      <td>35</td>\n",
       "      <td>168</td>\n",
       "      <td>43.1</td>\n",
       "      <td>2.288</td>\n",
       "      <td>33</td>\n",
       "      <td>1</td>\n",
       "    </tr>\n",
       "  </tbody>\n",
       "</table>\n",
       "</div>"
      ],
      "text/plain": [
       "   Pregnancies  Glucose  BloodPressure  SkinThickness  Insulin   BMI  \\\n",
       "0            6      148             72             35        0  33.6   \n",
       "1            1       85             66             29        0  26.6   \n",
       "2            8      183             64              0        0  23.3   \n",
       "3            1       89             66             23       94  28.1   \n",
       "4            0      137             40             35      168  43.1   \n",
       "\n",
       "   DiabetesPedigreeFunction  Age  Outcome  \n",
       "0                     0.627   50        1  \n",
       "1                     0.351   31        0  \n",
       "2                     0.672   32        1  \n",
       "3                     0.167   21        0  \n",
       "4                     2.288   33        1  "
      ]
     },
     "execution_count": 6,
     "metadata": {},
     "output_type": "execute_result"
    }
   ],
   "source": [
    "df = pd.read_csv(\"https://raw.githubusercontent.com/digipodium/Datasets/main/diabetes.csv\")\n",
    "df.head()"
   ]
  },
  {
   "cell_type": "code",
   "execution_count": 7,
   "metadata": {},
   "outputs": [
    {
     "data": {
      "text/plain": [
       "(768, 9)"
      ]
     },
     "execution_count": 7,
     "metadata": {},
     "output_type": "execute_result"
    }
   ],
   "source": [
    "df.shape"
   ]
  },
  {
   "cell_type": "code",
   "execution_count": 8,
   "metadata": {},
   "outputs": [
    {
     "data": {
      "text/plain": [
       "<AxesSubplot:xlabel='Insulin', ylabel='Outcome'>"
      ]
     },
     "execution_count": 8,
     "metadata": {},
     "output_type": "execute_result"
    },
    {
     "data": {
      "image/png": "[encoded data removed]",
      "text/plain": [
       "<Figure size 1440x360 with 1 Axes>"
      ]
     },
     "metadata": {
      "needs_background": "light"
     },
     "output_type": "display_data"
    }
   ],
   "source": [
    "df.plot(kind =\"scatter\", x =\"Insulin\",y =\"Outcome\", color= \"green\",alpha= .5,figsize=(20,5))"
   ]
  },
  {
   "cell_type": "code",
   "execution_count": 9,
   "metadata": {},
   "outputs": [
    {
     "data": {
      "text/plain": [
       "((614, 2), (154, 2))"
      ]
     },
     "execution_count": 9,
     "metadata": {},
     "output_type": "execute_result"
    }
   ],
   "source": [
    "X = df[[\"DiabetesPedigreeFunction\",'Glucose']]\n",
    "y = df[\"Outcome\"]\n",
    "scaler = StandardScaler()\n",
    "scaledX = scaler.fit_transform(X)\n",
    "xtrain, xtest,ytrain,ytest = train_test_split(scaledX,y,test_size=.2,random_state=1)\n",
    "xtrain.shape,xtest.shape\n"
   ]
  },
  {
   "cell_type": "code",
   "execution_count": 10,
   "metadata": {},
   "outputs": [
    {
     "data": {
      "text/plain": [
       "((614, 2), (154, 2))"
      ]
     },
     "execution_count": 10,
     "metadata": {},
     "output_type": "execute_result"
    }
   ],
   "source": [
    "xtrain.shape,xtest.shape"
   ]
  },
  {
   "cell_type": "code",
   "execution_count": 11,
   "metadata": {},
   "outputs": [
    {
     "data": {
      "text/plain": [
       "KNeighborsClassifier()"
      ]
     },
     "execution_count": 11,
     "metadata": {},
     "output_type": "execute_result"
    }
   ],
   "source": [
    "m= KNeighborsClassifier()\n",
    "m.fit(xtrain, ytrain)"
   ]
  },
  {
   "cell_type": "code",
   "execution_count": 12,
   "metadata": {},
   "outputs": [
    {
     "data": {
      "text/plain": [
       "0.7987012987012987"
      ]
     },
     "execution_count": 12,
     "metadata": {},
     "output_type": "execute_result"
    }
   ],
   "source": [
    "m.score(xtest,ytest)"
   ]
  },
  {
   "cell_type": "code",
   "execution_count": 13,
   "metadata": {},
   "outputs": [],
   "source": [
    "from sklearn.metrics import classification_report, confusion_matrix"
   ]
  },
  {
   "cell_type": "code",
   "execution_count": 14,
   "metadata": {},
   "outputs": [],
   "source": [
    "ypred = m.predict(xtest)"
   ]
  },
  {
   "cell_type": "code",
   "execution_count": 15,
   "metadata": {},
   "outputs": [],
   "source": [
    "import seaborn as sns"
   ]
  },
  {
   "cell_type": "code",
   "execution_count": 16,
   "metadata": {},
   "outputs": [
    {
     "name": "stdout",
     "output_type": "stream",
     "text": [
      "[[88 11]\n",
      " [20 35]]\n"
     ]
    }
   ],
   "source": [
    "cm = confusion_matrix(ytest, ypred)\n",
    "print(cm)"
   ]
  },
  {
   "cell_type": "code",
   "execution_count": 17,
   "metadata": {},
   "outputs": [
    {
     "data": {
      "text/plain": [
       "<AxesSubplot:>"
      ]
     },
     "execution_count": 17,
     "metadata": {},
     "output_type": "execute_result"
    },
    {
     "data": {
      "image/png": "[encoded data removed]",
      "text/plain": [
       "<Figure size 432x288 with 2 Axes>"
      ]
     },
     "metadata": {
      "needs_background": "light"
     },
     "output_type": "display_data"
    }
   ],
   "source": [
    "cm=confusion_matrix(ytest,ypred)\n",
    "sns.heatmap(cm)"
   ]
  },
  {
   "cell_type": "code",
   "execution_count": 18,
   "metadata": {},
   "outputs": [
    {
     "name": "stdout",
     "output_type": "stream",
     "text": [
      "              precision    recall  f1-score   support\n",
      "\n",
      "           0       0.81      0.89      0.85        99\n",
      "           1       0.76      0.64      0.69        55\n",
      "\n",
      "    accuracy                           0.80       154\n",
      "   macro avg       0.79      0.76      0.77       154\n",
      "weighted avg       0.80      0.80      0.79       154\n",
      "\n"
     ]
    }
   ],
   "source": [
    "print(classification_report(ytest,ypred))"
   ]
  },
  {
   "cell_type": "code",
   "execution_count": 19,
   "metadata": {},
   "outputs": [],
   "source": [
    "import seaborn as sns\n",
    "import numpy as np"
   ]
  },
  {
   "cell_type": "code",
   "execution_count": 20,
   "metadata": {},
   "outputs": [
    {
     "name": "stderr",
     "output_type": "stream",
     "text": [
      "*c* argument looks like a single numeric RGB or RGBA sequence, which should be avoided as value-mapping will have precedence in case its length matches with *x* & *y*.  Please use the *color* keyword-argument or provide a 2D array with a single row if you intend to specify the same RGB or RGBA value for all points.\n",
      "*c* argument looks like a single numeric RGB or RGBA sequence, which should be avoided as value-mapping will have precedence in case its length matches with *x* & *y*.  Please use the *color* keyword-argument or provide a 2D array with a single row if you intend to specify the same RGB or RGBA value for all points.\n"
     ]
    },
    {
     "data": {
      "image/png": "[encoded data removed]",
      "text/plain": [
       "<Figure size 432x288 with 1 Axes>"
      ]
     },
     "metadata": {
      "needs_background": "light"
     },
     "output_type": "display_data"
    }
   ],
   "source": [
    "# Visualising the Training set results\n",
    "from matplotlib.colors import ListedColormap\n",
    "X_set, y_set = xtrain, ytrain\n",
    "X1, X2 = np.meshgrid(np.arange(\n",
    "                            start = X_set[:, 0].min() - 1, \n",
    "                            stop = X_set[:, 0].max() + 1, \n",
    "                            step = 0.01),\n",
    "                        np.arange(\n",
    "                            start = X_set[:, 1].min() - 1, \n",
    "                            stop = X_set[:, 1].max() + 1, \n",
    "                            step = 0.01)\n",
    "                                )\n",
    "plt.contourf(X1, X2, m.predict(np.array([X1.ravel(), X2.ravel()]).T).reshape(X1.shape),\n",
    "            alpha = 0.75, cmap = ListedColormap(('red', 'green')))\n",
    "plt.xlim(X1.min(), X1.max())\n",
    "plt.ylim(X2.min(), X2.max())\n",
    "for i, j in enumerate(np.unique(y_set)):\n",
    "   plt.scatter(X_set[y_set == j, 0], X_set[y_set == j, 1],\n",
    "               c = ListedColormap(('red', 'green'))(i), label = j)\n",
    "plt.title('knn (Training set)')\n",
    "plt.xlabel('Age')\n",
    "plt.ylabel('Estimated Salary')\n",
    "plt.legend()\n",
    "plt.show()\n"
   ]
  },
  {
   "cell_type": "code",
   "execution_count": 21,
   "metadata": {},
   "outputs": [
    {
     "name": "stdout",
     "output_type": "stream",
     "text": [
      "\u001b[1;31mInit signature:\u001b[0m\n",
      "\u001b[0mKNeighborsClassifier\u001b[0m\u001b[1;33m(\u001b[0m\u001b[1;33m\n",
      "\u001b[0m    \u001b[0mn_neighbors\u001b[0m\u001b[1;33m=\u001b[0m\u001b[1;36m5\u001b[0m\u001b[1;33m,\u001b[0m\u001b[1;33m\n",
      "\u001b[0m    \u001b[1;33m*\u001b[0m\u001b[1;33m,\u001b[0m\u001b[1;33m\n",
      "\u001b[0m    \u001b[0mweights\u001b[0m\u001b[1;33m=\u001b[0m\u001b[1;34m'uniform'\u001b[0m\u001b[1;33m,\u001b[0m\u001b[1;33m\n",
      "\u001b[0m    \u001b[0malgorithm\u001b[0m\u001b[1;33m=\u001b[0m\u001b[1;34m'auto'\u001b[0m\u001b[1;33m,\u001b[0m\u001b[1;33m\n",
      "\u001b[0m    \u001b[0mleaf_size\u001b[0m\u001b[1;33m=\u001b[0m\u001b[1;36m30\u001b[0m\u001b[1;33m,\u001b[0m\u001b[1;33m\n",
      "\u001b[0m    \u001b[0mp\u001b[0m\u001b[1;33m=\u001b[0m\u001b[1;36m2\u001b[0m\u001b[1;33m,\u001b[0m\u001b[1;33m\n",
      "\u001b[0m    \u001b[0mmetric\u001b[0m\u001b[1;33m=\u001b[0m\u001b[1;34m'minkowski'\u001b[0m\u001b[1;33m,\u001b[0m\u001b[1;33m\n",
      "\u001b[0m    \u001b[0mmetric_params\u001b[0m\u001b[1;33m=\u001b[0m\u001b[1;32mNone\u001b[0m\u001b[1;33m,\u001b[0m\u001b[1;33m\n",
      "\u001b[0m    \u001b[0mn_jobs\u001b[0m\u001b[1;33m=\u001b[0m\u001b[1;32mNone\u001b[0m\u001b[1;33m,\u001b[0m\u001b[1;33m\n",
      "\u001b[0m\u001b[1;33m)\u001b[0m\u001b[1;33m\u001b[0m\u001b[1;33m\u001b[0m\u001b[0m\n",
      "\u001b[1;31mDocstring:\u001b[0m     \n",
      "Classifier implementing the k-nearest neighbors vote.\n",
      "\n",
      "Read more in the :ref:`User Guide <classification>`.\n",
      "\n",
      "Parameters\n",
      "----------\n",
      "n_neighbors : int, default=5\n",
      "    Number of neighbors to use by default for :meth:`kneighbors` queries.\n",
      "\n",
      "weights : {'uniform', 'distance'} or callable, default='uniform'\n",
      "    Weight function used in prediction.  Possible values:\n",
      "\n",
      "    - 'uniform' : uniform weights.  All points in each neighborhood\n",
      "      are weighted equally.\n",
      "    - 'distance' : weight points by the inverse of their distance.\n",
      "      in this case, closer neighbors of a query point will have a\n",
      "      greater influence than neighbors which are further away.\n",
      "    - [callable] : a user-defined function which accepts an\n",
      "      array of distances, and returns an array of the same shape\n",
      "      containing the weights.\n",
      "\n",
      "algorithm : {'auto', 'ball_tree', 'kd_tree', 'brute'}, default='auto'\n",
      "    Algorithm used to compute the nearest neighbors:\n",
      "\n",
      "    - 'ball_tree' will use :class:`BallTree`\n",
      "    - 'kd_tree' will use :class:`KDTree`\n",
      "    - 'brute' will use a brute-force search.\n",
      "    - 'auto' will attempt to decide the most appropriate algorithm\n",
      "      based on the values passed to :meth:`fit` method.\n",
      "\n",
      "    Note: fitting on sparse input will override the setting of\n",
      "    this parameter, using brute force.\n",
      "\n",
      "leaf_size : int, default=30\n",
      "    Leaf size passed to BallTree or KDTree.  This can affect the\n",
      "    speed of the construction and query, as well as the memory\n",
      "    required to store the tree.  The optimal value depends on the\n",
      "    nature of the problem.\n",
      "\n",
      "p : int, default=2\n",
      "    Power parameter for the Minkowski metric. When p = 1, this is\n",
      "    equivalent to using manhattan_distance (l1), and euclidean_distance\n",
      "    (l2) for p = 2. For arbitrary p, minkowski_distance (l_p) is used.\n",
      "\n",
      "metric : str or callable, default='minkowski'\n",
      "    The distance metric to use for the tree.  The default metric is\n",
      "    minkowski, and with p=2 is equivalent to the standard Euclidean\n",
      "    metric. For a list of available metrics, see the documentation of\n",
      "    :class:`~sklearn.metrics.DistanceMetric`.\n",
      "    If metric is \"precomputed\", X is assumed to be a distance matrix and\n",
      "    must be square during fit. X may be a :term:`sparse graph`,\n",
      "    in which case only \"nonzero\" elements may be considered neighbors.\n",
      "\n",
      "metric_params : dict, default=None\n",
      "    Additional keyword arguments for the metric function.\n",
      "\n",
      "n_jobs : int, default=None\n",
      "    The number of parallel jobs to run for neighbors search.\n",
      "    ``None`` means 1 unless in a :obj:`joblib.parallel_backend` context.\n",
      "    ``-1`` means using all processors. See :term:`Glossary <n_jobs>`\n",
      "    for more details.\n",
      "    Doesn't affect :meth:`fit` method.\n",
      "\n",
      "Attributes\n",
      "----------\n",
      "classes_ : array of shape (n_classes,)\n",
      "    Class labels known to the classifier\n",
      "\n",
      "effective_metric_ : str or callble\n",
      "    The distance metric used. It will be same as the `metric` parameter\n",
      "    or a synonym of it, e.g. 'euclidean' if the `metric` parameter set to\n",
      "    'minkowski' and `p` parameter set to 2.\n",
      "\n",
      "effective_metric_params_ : dict\n",
      "    Additional keyword arguments for the metric function. For most metrics\n",
      "    will be same with `metric_params` parameter, but may also contain the\n",
      "    `p` parameter value if the `effective_metric_` attribute is set to\n",
      "    'minkowski'.\n",
      "\n",
      "n_features_in_ : int\n",
      "    Number of features seen during :term:`fit`.\n",
      "\n",
      "    .. versionadded:: 0.24\n",
      "\n",
      "feature_names_in_ : ndarray of shape (`n_features_in_`,)\n",
      "    Names of features seen during :term:`fit`. Defined only when `X`\n",
      "    has feature names that are all strings.\n",
      "\n",
      "    .. versionadded:: 1.0\n",
      "\n",
      "n_samples_fit_ : int\n",
      "    Number of samples in the fitted data.\n",
      "\n",
      "outputs_2d_ : bool\n",
      "    False when `y`'s shape is (n_samples, ) or (n_samples, 1) during fit\n",
      "    otherwise True.\n",
      "\n",
      "See Also\n",
      "--------\n",
      "RadiusNeighborsClassifier: Classifier based on neighbors within a fixed radius.\n",
      "KNeighborsRegressor: Regression based on k-nearest neighbors.\n",
      "RadiusNeighborsRegressor: Regression based on neighbors within a fixed radius.\n",
      "NearestNeighbors: Unsupervised learner for implementing neighbor searches.\n",
      "\n",
      "Notes\n",
      "-----\n",
      "See :ref:`Nearest Neighbors <neighbors>` in the online documentation\n",
      "for a discussion of the choice of ``algorithm`` and ``leaf_size``.\n",
      "\n",
      ".. warning::\n",
      "\n",
      "   Regarding the Nearest Neighbors algorithms, if it is found that two\n",
      "   neighbors, neighbor `k+1` and `k`, have identical distances\n",
      "   but different labels, the results will depend on the ordering of the\n",
      "   training data.\n",
      "\n",
      "https://en.wikipedia.org/wiki/K-nearest_neighbor_algorithm\n",
      "\n",
      "Examples\n",
      "--------\n",
      ">>> X = [[0], [1], [2], [3]]\n",
      ">>> y = [0, 0, 1, 1]\n",
      ">>> from sklearn.neighbors import KNeighborsClassifier\n",
      ">>> neigh = KNeighborsClassifier(n_neighbors=3)\n",
      ">>> neigh.fit(X, y)\n",
      "KNeighborsClassifier(...)\n",
      ">>> print(neigh.predict([[1.1]]))\n",
      "[0]\n",
      ">>> print(neigh.predict_proba([[0.9]]))\n",
      "[[0.666... 0.333...]]\n",
      "\u001b[1;31mFile:\u001b[0m           c:\\users\\administrator\\miniconda3\\envs\\digi\\lib\\site-packages\\sklearn\\neighbors\\_classification.py\n",
      "\u001b[1;31mType:\u001b[0m           ABCMeta\n",
      "\u001b[1;31mSubclasses:\u001b[0m     \n"
     ]
    }
   ],
   "source": [
    "KNeighborsClassifier?"
   ]
  },
  {
   "cell_type": "code",
   "execution_count": 22,
   "metadata": {},
   "outputs": [
    {
     "data": {
      "text/plain": [
       "{'n_neighbors': [1, 4, 7, 10, 13, 16, 19, 22, 25, 28],\n",
       " 'algorithm': ['ball_tree', 'kd_tree', 'brute'],\n",
       " 'weights': ['uniform', 'distance'],\n",
       " 'metric': ['minkowski'],\n",
       " 'p': [1, 2]}"
      ]
     },
     "execution_count": 22,
     "metadata": {},
     "output_type": "execute_result"
    }
   ],
   "source": [
    "params = {\n",
    "    'n_neighbors' : list(range(1,30,3)),\n",
    "    'algorithm': [\"ball_tree\", \"kd_tree\", \"brute\"],\n",
    "    'weights': ['uniform', 'distance'],\n",
    "    'metric': ['minkowski'],\n",
    "    'p':[1,2]\n",
    "\n",
    "}\n",
    "params"
   ]
  },
  {
   "cell_type": "code",
   "execution_count": 23,
   "metadata": {},
   "outputs": [],
   "source": [
    "grid = GridSearchCV(estimator=KNeighborsClassifier(),param_grid=params,cv=3,n_jobs=-1,verbose=2)"
   ]
  },
  {
   "cell_type": "code",
   "execution_count": 24,
   "metadata": {},
   "outputs": [
    {
     "name": "stdout",
     "output_type": "stream",
     "text": [
      "Fitting 3 folds for each of 120 candidates, totalling 360 fits\n"
     ]
    },
    {
     "data": {
      "text/plain": [
       "GridSearchCV(cv=3, estimator=KNeighborsClassifier(), n_jobs=-1,\n",
       "             param_grid={'algorithm': ['ball_tree', 'kd_tree', 'brute'],\n",
       "                         'metric': ['minkowski'],\n",
       "                         'n_neighbors': [1, 4, 7, 10, 13, 16, 19, 22, 25, 28],\n",
       "                         'p': [1, 2], 'weights': ['uniform', 'distance']},\n",
       "             verbose=2)"
      ]
     },
     "execution_count": 24,
     "metadata": {},
     "output_type": "execute_result"
    }
   ],
   "source": [
    "grid.fit(scaledX,y)"
   ]
  },
  {
   "cell_type": "code",
   "execution_count": 25,
   "metadata": {},
   "outputs": [],
   "source": [
    "gf = pd.DataFrame(grid.cv_results_)"
   ]
  },
  {
   "cell_type": "code",
   "execution_count": 26,
   "metadata": {},
   "outputs": [
    {
     "data": {
      "text/html": [
       "<div>\n",
       "<style scoped>\n",
       "    .dataframe tbody tr th:only-of-type {\n",
       "        vertical-align: middle;\n",
       "    }\n",
       "\n",
       "    .dataframe tbody tr th {\n",
       "        vertical-align: top;\n",
       "    }\n",
       "\n",
       "    .dataframe thead th {\n",
       "        text-align: right;\n",
       "    }\n",
       "</style>\n",
       "<table border=\"1\" class=\"dataframe\">\n",
       "  <thead>\n",
       "    <tr style=\"text-align: right;\">\n",
       "      <th></th>\n",
       "      <th>mean_fit_time</th>\n",
       "      <th>std_fit_time</th>\n",
       "      <th>mean_score_time</th>\n",
       "      <th>std_score_time</th>\n",
       "      <th>param_algorithm</th>\n",
       "      <th>param_metric</th>\n",
       "      <th>param_n_neighbors</th>\n",
       "      <th>param_p</th>\n",
       "      <th>param_weights</th>\n",
       "      <th>params</th>\n",
       "      <th>split0_test_score</th>\n",
       "      <th>split1_test_score</th>\n",
       "      <th>split2_test_score</th>\n",
       "      <th>mean_test_score</th>\n",
       "      <th>std_test_score</th>\n",
       "      <th>rank_test_score</th>\n",
       "    </tr>\n",
       "  </thead>\n",
       "  <tbody>\n",
       "    <tr>\n",
       "      <th>30</th>\n",
       "      <td>0.002518</td>\n",
       "      <td>0.001095</td>\n",
       "      <td>0.017910</td>\n",
       "      <td>0.000773</td>\n",
       "      <td>ball_tree</td>\n",
       "      <td>minkowski</td>\n",
       "      <td>22</td>\n",
       "      <td>2</td>\n",
       "      <td>uniform</td>\n",
       "      <td>{'algorithm': 'ball_tree', 'metric': 'minkowsk...</td>\n",
       "      <td>0.730469</td>\n",
       "      <td>0.757812</td>\n",
       "      <td>0.750000</td>\n",
       "      <td>0.746094</td>\n",
       "      <td>0.011500</td>\n",
       "      <td>1</td>\n",
       "    </tr>\n",
       "    <tr>\n",
       "      <th>24</th>\n",
       "      <td>0.001332</td>\n",
       "      <td>0.000472</td>\n",
       "      <td>0.017846</td>\n",
       "      <td>0.000432</td>\n",
       "      <td>ball_tree</td>\n",
       "      <td>minkowski</td>\n",
       "      <td>19</td>\n",
       "      <td>1</td>\n",
       "      <td>uniform</td>\n",
       "      <td>{'algorithm': 'ball_tree', 'metric': 'minkowsk...</td>\n",
       "      <td>0.734375</td>\n",
       "      <td>0.738281</td>\n",
       "      <td>0.765625</td>\n",
       "      <td>0.746094</td>\n",
       "      <td>0.013902</td>\n",
       "      <td>1</td>\n",
       "    </tr>\n",
       "    <tr>\n",
       "      <th>70</th>\n",
       "      <td>0.003000</td>\n",
       "      <td>0.002830</td>\n",
       "      <td>0.019984</td>\n",
       "      <td>0.005343</td>\n",
       "      <td>kd_tree</td>\n",
       "      <td>minkowski</td>\n",
       "      <td>22</td>\n",
       "      <td>2</td>\n",
       "      <td>uniform</td>\n",
       "      <td>{'algorithm': 'kd_tree', 'metric': 'minkowski'...</td>\n",
       "      <td>0.730469</td>\n",
       "      <td>0.757812</td>\n",
       "      <td>0.750000</td>\n",
       "      <td>0.746094</td>\n",
       "      <td>0.011500</td>\n",
       "      <td>1</td>\n",
       "    </tr>\n",
       "    <tr>\n",
       "      <th>104</th>\n",
       "      <td>0.006339</td>\n",
       "      <td>0.007548</td>\n",
       "      <td>0.021175</td>\n",
       "      <td>0.000845</td>\n",
       "      <td>brute</td>\n",
       "      <td>minkowski</td>\n",
       "      <td>19</td>\n",
       "      <td>1</td>\n",
       "      <td>uniform</td>\n",
       "      <td>{'algorithm': 'brute', 'metric': 'minkowski', ...</td>\n",
       "      <td>0.734375</td>\n",
       "      <td>0.738281</td>\n",
       "      <td>0.765625</td>\n",
       "      <td>0.746094</td>\n",
       "      <td>0.013902</td>\n",
       "      <td>1</td>\n",
       "    </tr>\n",
       "    <tr>\n",
       "      <th>110</th>\n",
       "      <td>0.001336</td>\n",
       "      <td>0.000465</td>\n",
       "      <td>0.022336</td>\n",
       "      <td>0.000437</td>\n",
       "      <td>brute</td>\n",
       "      <td>minkowski</td>\n",
       "      <td>22</td>\n",
       "      <td>2</td>\n",
       "      <td>uniform</td>\n",
       "      <td>{'algorithm': 'brute', 'metric': 'minkowski', ...</td>\n",
       "      <td>0.730469</td>\n",
       "      <td>0.757812</td>\n",
       "      <td>0.750000</td>\n",
       "      <td>0.746094</td>\n",
       "      <td>0.011500</td>\n",
       "      <td>1</td>\n",
       "    </tr>\n",
       "    <tr>\n",
       "      <th>...</th>\n",
       "      <td>...</td>\n",
       "      <td>...</td>\n",
       "      <td>...</td>\n",
       "      <td>...</td>\n",
       "      <td>...</td>\n",
       "      <td>...</td>\n",
       "      <td>...</td>\n",
       "      <td>...</td>\n",
       "      <td>...</td>\n",
       "      <td>...</td>\n",
       "      <td>...</td>\n",
       "      <td>...</td>\n",
       "      <td>...</td>\n",
       "      <td>...</td>\n",
       "      <td>...</td>\n",
       "      <td>...</td>\n",
       "    </tr>\n",
       "    <tr>\n",
       "      <th>81</th>\n",
       "      <td>0.001327</td>\n",
       "      <td>0.000460</td>\n",
       "      <td>0.004154</td>\n",
       "      <td>0.001011</td>\n",
       "      <td>brute</td>\n",
       "      <td>minkowski</td>\n",
       "      <td>1</td>\n",
       "      <td>1</td>\n",
       "      <td>distance</td>\n",
       "      <td>{'algorithm': 'brute', 'metric': 'minkowski', ...</td>\n",
       "      <td>0.675781</td>\n",
       "      <td>0.648438</td>\n",
       "      <td>0.660156</td>\n",
       "      <td>0.661458</td>\n",
       "      <td>0.011201</td>\n",
       "      <td>115</td>\n",
       "    </tr>\n",
       "    <tr>\n",
       "      <th>80</th>\n",
       "      <td>0.002184</td>\n",
       "      <td>0.001675</td>\n",
       "      <td>0.019120</td>\n",
       "      <td>0.003391</td>\n",
       "      <td>brute</td>\n",
       "      <td>minkowski</td>\n",
       "      <td>1</td>\n",
       "      <td>1</td>\n",
       "      <td>uniform</td>\n",
       "      <td>{'algorithm': 'brute', 'metric': 'minkowski', ...</td>\n",
       "      <td>0.675781</td>\n",
       "      <td>0.648438</td>\n",
       "      <td>0.660156</td>\n",
       "      <td>0.661458</td>\n",
       "      <td>0.011201</td>\n",
       "      <td>115</td>\n",
       "    </tr>\n",
       "    <tr>\n",
       "      <th>1</th>\n",
       "      <td>0.006012</td>\n",
       "      <td>0.002015</td>\n",
       "      <td>0.004883</td>\n",
       "      <td>0.000429</td>\n",
       "      <td>ball_tree</td>\n",
       "      <td>minkowski</td>\n",
       "      <td>1</td>\n",
       "      <td>1</td>\n",
       "      <td>distance</td>\n",
       "      <td>{'algorithm': 'ball_tree', 'metric': 'minkowsk...</td>\n",
       "      <td>0.675781</td>\n",
       "      <td>0.648438</td>\n",
       "      <td>0.660156</td>\n",
       "      <td>0.661458</td>\n",
       "      <td>0.011201</td>\n",
       "      <td>115</td>\n",
       "    </tr>\n",
       "    <tr>\n",
       "      <th>40</th>\n",
       "      <td>0.001022</td>\n",
       "      <td>0.000818</td>\n",
       "      <td>0.015159</td>\n",
       "      <td>0.000797</td>\n",
       "      <td>kd_tree</td>\n",
       "      <td>minkowski</td>\n",
       "      <td>1</td>\n",
       "      <td>1</td>\n",
       "      <td>uniform</td>\n",
       "      <td>{'algorithm': 'kd_tree', 'metric': 'minkowski'...</td>\n",
       "      <td>0.675781</td>\n",
       "      <td>0.648438</td>\n",
       "      <td>0.660156</td>\n",
       "      <td>0.661458</td>\n",
       "      <td>0.011201</td>\n",
       "      <td>115</td>\n",
       "    </tr>\n",
       "    <tr>\n",
       "      <th>0</th>\n",
       "      <td>0.008468</td>\n",
       "      <td>0.000366</td>\n",
       "      <td>0.019131</td>\n",
       "      <td>0.001946</td>\n",
       "      <td>ball_tree</td>\n",
       "      <td>minkowski</td>\n",
       "      <td>1</td>\n",
       "      <td>1</td>\n",
       "      <td>uniform</td>\n",
       "      <td>{'algorithm': 'ball_tree', 'metric': 'minkowsk...</td>\n",
       "      <td>0.675781</td>\n",
       "      <td>0.648438</td>\n",
       "      <td>0.660156</td>\n",
       "      <td>0.661458</td>\n",
       "      <td>0.011201</td>\n",
       "      <td>115</td>\n",
       "    </tr>\n",
       "  </tbody>\n",
       "</table>\n",
       "<p>120 rows × 16 columns</p>\n",
       "</div>"
      ],
      "text/plain": [
       "     mean_fit_time  std_fit_time  mean_score_time  std_score_time  \\\n",
       "30        0.002518      0.001095         0.017910        0.000773   \n",
       "24        0.001332      0.000472         0.017846        0.000432   \n",
       "70        0.003000      0.002830         0.019984        0.005343   \n",
       "104       0.006339      0.007548         0.021175        0.000845   \n",
       "110       0.001336      0.000465         0.022336        0.000437   \n",
       "..             ...           ...              ...             ...   \n",
       "81        0.001327      0.000460         0.004154        0.001011   \n",
       "80        0.002184      0.001675         0.019120        0.003391   \n",
       "1         0.006012      0.002015         0.004883        0.000429   \n",
       "40        0.001022      0.000818         0.015159        0.000797   \n",
       "0         0.008468      0.000366         0.019131        0.001946   \n",
       "\n",
       "    param_algorithm param_metric param_n_neighbors param_p param_weights  \\\n",
       "30        ball_tree    minkowski                22       2       uniform   \n",
       "24        ball_tree    minkowski                19       1       uniform   \n",
       "70          kd_tree    minkowski                22       2       uniform   \n",
       "104           brute    minkowski                19       1       uniform   \n",
       "110           brute    minkowski                22       2       uniform   \n",
       "..              ...          ...               ...     ...           ...   \n",
       "81            brute    minkowski                 1       1      distance   \n",
       "80            brute    minkowski                 1       1       uniform   \n",
       "1         ball_tree    minkowski                 1       1      distance   \n",
       "40          kd_tree    minkowski                 1       1       uniform   \n",
       "0         ball_tree    minkowski                 1       1       uniform   \n",
       "\n",
       "                                                params  split0_test_score  \\\n",
       "30   {'algorithm': 'ball_tree', 'metric': 'minkowsk...           0.730469   \n",
       "24   {'algorithm': 'ball_tree', 'metric': 'minkowsk...           0.734375   \n",
       "70   {'algorithm': 'kd_tree', 'metric': 'minkowski'...           0.730469   \n",
       "104  {'algorithm': 'brute', 'metric': 'minkowski', ...           0.734375   \n",
       "110  {'algorithm': 'brute', 'metric': 'minkowski', ...           0.730469   \n",
       "..                                                 ...                ...   \n",
       "81   {'algorithm': 'brute', 'metric': 'minkowski', ...           0.675781   \n",
       "80   {'algorithm': 'brute', 'metric': 'minkowski', ...           0.675781   \n",
       "1    {'algorithm': 'ball_tree', 'metric': 'minkowsk...           0.675781   \n",
       "40   {'algorithm': 'kd_tree', 'metric': 'minkowski'...           0.675781   \n",
       "0    {'algorithm': 'ball_tree', 'metric': 'minkowsk...           0.675781   \n",
       "\n",
       "     split1_test_score  split2_test_score  mean_test_score  std_test_score  \\\n",
       "30            0.757812           0.750000         0.746094        0.011500   \n",
       "24            0.738281           0.765625         0.746094        0.013902   \n",
       "70            0.757812           0.750000         0.746094        0.011500   \n",
       "104           0.738281           0.765625         0.746094        0.013902   \n",
       "110           0.757812           0.750000         0.746094        0.011500   \n",
       "..                 ...                ...              ...             ...   \n",
       "81            0.648438           0.660156         0.661458        0.011201   \n",
       "80            0.648438           0.660156         0.661458        0.011201   \n",
       "1             0.648438           0.660156         0.661458        0.011201   \n",
       "40            0.648438           0.660156         0.661458        0.011201   \n",
       "0             0.648438           0.660156         0.661458        0.011201   \n",
       "\n",
       "     rank_test_score  \n",
       "30                 1  \n",
       "24                 1  \n",
       "70                 1  \n",
       "104                1  \n",
       "110                1  \n",
       "..               ...  \n",
       "81               115  \n",
       "80               115  \n",
       "1                115  \n",
       "40               115  \n",
       "0                115  \n",
       "\n",
       "[120 rows x 16 columns]"
      ]
     },
     "execution_count": 26,
     "metadata": {},
     "output_type": "execute_result"
    }
   ],
   "source": [
    "gf.sort_values(by='rank_test_score',inplace=True)\n",
    "gf"
   ]
  },
  {
   "cell_type": "code",
   "execution_count": 27,
   "metadata": {},
   "outputs": [
    {
     "data": {
      "text/plain": [
       "KNeighborsClassifier(algorithm='ball_tree', n_neighbors=19, p=1)"
      ]
     },
     "execution_count": 27,
     "metadata": {},
     "output_type": "execute_result"
    }
   ],
   "source": [
    "grid.best_estimator_"
   ]
  },
  {
   "cell_type": "code",
   "execution_count": 28,
   "metadata": {},
   "outputs": [
    {
     "data": {
      "text/plain": [
       "['dibates.pkl']"
      ]
     },
     "execution_count": 28,
     "metadata": {},
     "output_type": "execute_result"
    }
   ],
   "source": [
    "dump(grid.best_estimator_,\"dibates.pkl\")"
   ]
  },
  {
   "cell_type": "code",
   "execution_count": 29,
   "metadata": {},
   "outputs": [
    {
     "data": {
      "text/plain": [
       "{'n_neighbors': [1, 4, 7, 10, 13, 16, 19, 22, 25, 28],\n",
       " 'algorithm': ['ball_tree', 'kd_tree', 'brute'],\n",
       " 'weights': ['uniform', 'distance'],\n",
       " 'metric': ['precomputed'],\n",
       " 'p': [1, 2]}"
      ]
     },
     "execution_count": 29,
     "metadata": {},
     "output_type": "execute_result"
    }
   ],
   "source": [
    "params2 = {\n",
    "    'n_neighbors' : list(range(1,30,3)),\n",
    "    'algorithm': [\"ball_tree\", \"kd_tree\", \"brute\"],\n",
    "    'weights': ['uniform', 'distance'],\n",
    "    'metric': ['precomputed'],\n",
    "    'p':[1,2]\n",
    "\n",
    "}\n",
    "params2"
   ]
  },
  {
   "cell_type": "code",
   "execution_count": 30,
   "metadata": {},
   "outputs": [],
   "source": [
    "grid = GridSearchCV(estimator=KNeighborsClassifier(),param_grid=params2,cv=3,n_jobs=-1,verbose=2)"
   ]
  },
  {
   "cell_type": "code",
   "execution_count": 31,
   "metadata": {},
   "outputs": [
    {
     "name": "stdout",
     "output_type": "stream",
     "text": [
      "Fitting 3 folds for each of 120 candidates, totalling 360 fits\n"
     ]
    }
   ],
   "source": [
    "grid.fit(scaledX,y)"
   ]
  },
  {
   "cell_type": "code",
   "execution_count": null,
   "metadata": {},
   "outputs": [],
   "source": []
  }
 ],
 "metadata": {
  "interpreter": {
   "hash": "d7ebed62e2a12dc8a3194bbfa7ef46de770c10446ebaf82ca7b2ea3c87934554"
  },
  "kernelspec": {
   "display_name": "Python 3.9.7 ('digi')",
   "language": "python",
   "name": "python3"
  },
  "language_info": {
   "codemirror_mode": {
    "name": "ipython",
    "version": 3
   },
   "file_extension": ".py",
   "mimetype": "text/x-python",
   "name": "python",
   "nbconvert_exporter": "python",
   "pygments_lexer": "ipython3",
   "version": "3.9.7"
  },
  "orig_nbformat": 4
 },
 "nbformat": 4,
 "nbformat_minor": 2
}
