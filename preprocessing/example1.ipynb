{
 "cells": [
  {
   "cell_type": "markdown",
   "metadata": {},
   "source": [
    "What is Pandas?\n",
    "Pandas is a Python library used for working with data sets.\n",
    "\n",
    "It has functions for analyzing, cleaning, exploring, and manipulating data."
   ]
  },
  {
   "cell_type": "code",
   "execution_count": 84,
   "metadata": {},
   "outputs": [],
   "source": [
    "import pandas as pd"
   ]
  },
  {
   "cell_type": "code",
   "execution_count": 85,
   "metadata": {},
   "outputs": [],
   "source": [
    "df=pd.read_csv('../sample.csv')\n"
   ]
  },
  {
   "cell_type": "code",
   "execution_count": 86,
   "metadata": {},
   "outputs": [
    {
     "data": {
      "text/html": [
       "<div>\n",
       "<style scoped>\n",
       "    .dataframe tbody tr th:only-of-type {\n",
       "        vertical-align: middle;\n",
       "    }\n",
       "\n",
       "    .dataframe tbody tr th {\n",
       "        vertical-align: top;\n",
       "    }\n",
       "\n",
       "    .dataframe thead th {\n",
       "        text-align: right;\n",
       "    }\n",
       "</style>\n",
       "<table border=\"1\" class=\"dataframe\">\n",
       "  <thead>\n",
       "    <tr style=\"text-align: right;\">\n",
       "      <th></th>\n",
       "      <th>sno</th>\n",
       "      <th>name</th>\n",
       "      <th>age</th>\n",
       "      <th>salary</th>\n",
       "      <th>designation</th>\n",
       "      <th>mobile</th>\n",
       "    </tr>\n",
       "  </thead>\n",
       "  <tbody>\n",
       "    <tr>\n",
       "      <th>0</th>\n",
       "      <td>1</td>\n",
       "      <td>shabeeh abaas</td>\n",
       "      <td>23.0</td>\n",
       "      <td>$20,000</td>\n",
       "      <td>manager</td>\n",
       "      <td>9.140098e+09</td>\n",
       "    </tr>\n",
       "    <tr>\n",
       "      <th>1</th>\n",
       "      <td>2</td>\n",
       "      <td>kashish agrawal</td>\n",
       "      <td>21.0</td>\n",
       "      <td>$23,000</td>\n",
       "      <td>manager</td>\n",
       "      <td>3.242343e+08</td>\n",
       "    </tr>\n",
       "    <tr>\n",
       "      <th>2</th>\n",
       "      <td>3</td>\n",
       "      <td>nisha shukla</td>\n",
       "      <td>22.0</td>\n",
       "      <td>$32,000</td>\n",
       "      <td>region manager</td>\n",
       "      <td>2.903482e+09</td>\n",
       "    </tr>\n",
       "    <tr>\n",
       "      <th>3</th>\n",
       "      <td>4</td>\n",
       "      <td>kriti rajput</td>\n",
       "      <td>22.0</td>\n",
       "      <td>$3,333</td>\n",
       "      <td>NaN</td>\n",
       "      <td>NaN</td>\n",
       "    </tr>\n",
       "    <tr>\n",
       "      <th>4</th>\n",
       "      <td>5</td>\n",
       "      <td>deepak gupta</td>\n",
       "      <td>23.0</td>\n",
       "      <td>$33,000</td>\n",
       "      <td>manager</td>\n",
       "      <td>2.343243e+08</td>\n",
       "    </tr>\n",
       "  </tbody>\n",
       "</table>\n",
       "</div>"
      ],
      "text/plain": [
       "   sno             name   age   salary     designation        mobile\n",
       "0    1    shabeeh abaas  23.0  $20,000         manager  9.140098e+09\n",
       "1    2  kashish agrawal  21.0  $23,000        manager   3.242343e+08\n",
       "2    3     nisha shukla  22.0  $32,000  region manager  2.903482e+09\n",
       "3    4     kriti rajput  22.0   $3,333             NaN           NaN\n",
       "4    5     deepak gupta  23.0  $33,000         manager  2.343243e+08"
      ]
     },
     "execution_count": 86,
     "metadata": {},
     "output_type": "execute_result"
    }
   ],
   "source": [
    "df.head()"
   ]
  },
  {
   "cell_type": "code",
   "execution_count": 87,
   "metadata": {},
   "outputs": [],
   "source": [
    "# df.notnull()         #to check not null values\n",
    "# df.isnull()          #to check null values\n",
    "\n",
    "# df.isnull().sum()    #to check no of null values\n",
    "# df.info() for information\n"
   ]
  },
  {
   "cell_type": "markdown",
   "metadata": {},
   "source": [
    "DATA CLEANING\n",
    "---------------At the time of cleaning first thing is--------------------\n",
    "[imputation]handle missing values(numerical type,text based'string' type)--replace-missing-value\n",
    "    [we find average of the values and place the value at the missing value place]\n",
    "    for that we use logic(MEAN) and use library(SCIKIT-LEARN) Use class simpleimputer(finds the null and place the average of all values)\n",
    "\n",
    "    [if missing value is text type]use logic(FREQUENCY) use any class in various ways]\n",
    "\n",
    "[clean up]string cleaning[(string to numerical]type.. for a numerical col) we use STRING FUNCTIONS and should know pandas str functions\n",
    "    we should know pandas str function,lambda expression, apply and applymap()\n",
    "\n",
    "[row/columns remove] logic is DROP THE COL and library is PD.DROP()\n",
    "[columns add] logic is (data to fill the columns)\n",
    "[column renaming] library use ( pd.rename())\n",
    "[row add] logic is (data fro the column)\n",
    "[replace values in row/col] logic (data to replace) should know function (pd.replace())\n"
   ]
  },
  {
   "cell_type": "code",
   "execution_count": 88,
   "metadata": {},
   "outputs": [
    {
     "data": {
      "text/html": [
       "<div>\n",
       "<style scoped>\n",
       "    .dataframe tbody tr th:only-of-type {\n",
       "        vertical-align: middle;\n",
       "    }\n",
       "\n",
       "    .dataframe tbody tr th {\n",
       "        vertical-align: top;\n",
       "    }\n",
       "\n",
       "    .dataframe thead th {\n",
       "        text-align: right;\n",
       "    }\n",
       "</style>\n",
       "<table border=\"1\" class=\"dataframe\">\n",
       "  <thead>\n",
       "    <tr style=\"text-align: right;\">\n",
       "      <th></th>\n",
       "      <th>sno</th>\n",
       "      <th>name</th>\n",
       "      <th>age</th>\n",
       "      <th>salary</th>\n",
       "      <th>designation</th>\n",
       "      <th>mobile</th>\n",
       "    </tr>\n",
       "  </thead>\n",
       "  <tbody>\n",
       "    <tr>\n",
       "      <th>0</th>\n",
       "      <td>1</td>\n",
       "      <td>shabeeh abaas</td>\n",
       "      <td>23.0</td>\n",
       "      <td>$20,000</td>\n",
       "      <td>manager</td>\n",
       "      <td>9.140098e+09</td>\n",
       "    </tr>\n",
       "    <tr>\n",
       "      <th>1</th>\n",
       "      <td>2</td>\n",
       "      <td>kashish agrawal</td>\n",
       "      <td>21.0</td>\n",
       "      <td>$23,000</td>\n",
       "      <td>manager</td>\n",
       "      <td>3.242343e+08</td>\n",
       "    </tr>\n",
       "    <tr>\n",
       "      <th>2</th>\n",
       "      <td>3</td>\n",
       "      <td>nisha shukla</td>\n",
       "      <td>22.0</td>\n",
       "      <td>$32,000</td>\n",
       "      <td>region manager</td>\n",
       "      <td>2.903482e+09</td>\n",
       "    </tr>\n",
       "    <tr>\n",
       "      <th>3</th>\n",
       "      <td>4</td>\n",
       "      <td>kriti rajput</td>\n",
       "      <td>22.0</td>\n",
       "      <td>$3,333</td>\n",
       "      <td>NaN</td>\n",
       "      <td>NaN</td>\n",
       "    </tr>\n",
       "    <tr>\n",
       "      <th>4</th>\n",
       "      <td>5</td>\n",
       "      <td>deepak gupta</td>\n",
       "      <td>23.0</td>\n",
       "      <td>$33,000</td>\n",
       "      <td>manager</td>\n",
       "      <td>2.343243e+08</td>\n",
       "    </tr>\n",
       "    <tr>\n",
       "      <th>5</th>\n",
       "      <td>6</td>\n",
       "      <td>mayank singh</td>\n",
       "      <td>23.0</td>\n",
       "      <td>NaN</td>\n",
       "      <td>region manager</td>\n",
       "      <td>2.334243e+08</td>\n",
       "    </tr>\n",
       "    <tr>\n",
       "      <th>6</th>\n",
       "      <td>7</td>\n",
       "      <td>aditya sagar</td>\n",
       "      <td>NaN</td>\n",
       "      <td>$23,333</td>\n",
       "      <td>manager</td>\n",
       "      <td>2.342423e+09</td>\n",
       "    </tr>\n",
       "    <tr>\n",
       "      <th>7</th>\n",
       "      <td>8</td>\n",
       "      <td>prashant</td>\n",
       "      <td>22.0</td>\n",
       "      <td>$3,333</td>\n",
       "      <td>director</td>\n",
       "      <td>2.324343e+07</td>\n",
       "    </tr>\n",
       "  </tbody>\n",
       "</table>\n",
       "</div>"
      ],
      "text/plain": [
       "   sno             name   age   salary     designation        mobile\n",
       "0    1    shabeeh abaas  23.0  $20,000         manager  9.140098e+09\n",
       "1    2  kashish agrawal  21.0  $23,000        manager   3.242343e+08\n",
       "2    3     nisha shukla  22.0  $32,000  region manager  2.903482e+09\n",
       "3    4     kriti rajput  22.0   $3,333             NaN           NaN\n",
       "4    5     deepak gupta  23.0  $33,000         manager  2.343243e+08\n",
       "5    6     mayank singh  23.0      NaN  region manager  2.334243e+08\n",
       "6    7     aditya sagar   NaN  $23,333         manager  2.342423e+09\n",
       "7    8         prashant  22.0   $3,333        director  2.324343e+07"
      ]
     },
     "execution_count": 88,
     "metadata": {},
     "output_type": "execute_result"
    }
   ],
   "source": [
    "df"
   ]
  },
  {
   "cell_type": "markdown",
   "metadata": {},
   "source": [
    "cleaning function"
   ]
  },
  {
   "cell_type": "code",
   "execution_count": 89,
   "metadata": {},
   "outputs": [],
   "source": [
    "def salary_clean(salary):\n",
    "    if isinstance(salary,str): # to check type of the data\n",
    "        salary=salary.strip()\n",
    "        if '$' in salary:\n",
    "            salary=salary.replace('$','')\n",
    "        if ',' in salary:\n",
    "            salary=salary.replace(',','')\n",
    "\n",
    "        return int(salary)\n",
    "    return salary"
   ]
  },
  {
   "cell_type": "code",
   "execution_count": 90,
   "metadata": {},
   "outputs": [
    {
     "data": {
      "text/plain": [
       "0    20000.0\n",
       "1    23000.0\n",
       "2    32000.0\n",
       "3     3333.0\n",
       "4    33000.0\n",
       "5        NaN\n",
       "6    23333.0\n",
       "7     3333.0\n",
       "Name: salary, dtype: float64"
      ]
     },
     "execution_count": 90,
     "metadata": {},
     "output_type": "execute_result"
    }
   ],
   "source": [
    "#for cleaning\n",
    "# test run\n",
    "df['salary'].apply(salary_clean)\n"
   ]
  },
  {
   "cell_type": "code",
   "execution_count": 91,
   "metadata": {},
   "outputs": [
    {
     "data": {
      "text/html": [
       "<div>\n",
       "<style scoped>\n",
       "    .dataframe tbody tr th:only-of-type {\n",
       "        vertical-align: middle;\n",
       "    }\n",
       "\n",
       "    .dataframe tbody tr th {\n",
       "        vertical-align: top;\n",
       "    }\n",
       "\n",
       "    .dataframe thead th {\n",
       "        text-align: right;\n",
       "    }\n",
       "</style>\n",
       "<table border=\"1\" class=\"dataframe\">\n",
       "  <thead>\n",
       "    <tr style=\"text-align: right;\">\n",
       "      <th></th>\n",
       "      <th>sno</th>\n",
       "      <th>name</th>\n",
       "      <th>age</th>\n",
       "      <th>salary</th>\n",
       "      <th>designation</th>\n",
       "      <th>mobile</th>\n",
       "    </tr>\n",
       "  </thead>\n",
       "  <tbody>\n",
       "    <tr>\n",
       "      <th>0</th>\n",
       "      <td>1</td>\n",
       "      <td>shabeeh abaas</td>\n",
       "      <td>23.0</td>\n",
       "      <td>20000.0</td>\n",
       "      <td>manager</td>\n",
       "      <td>9.140098e+09</td>\n",
       "    </tr>\n",
       "    <tr>\n",
       "      <th>1</th>\n",
       "      <td>2</td>\n",
       "      <td>kashish agrawal</td>\n",
       "      <td>21.0</td>\n",
       "      <td>23000.0</td>\n",
       "      <td>manager</td>\n",
       "      <td>3.242343e+08</td>\n",
       "    </tr>\n",
       "    <tr>\n",
       "      <th>2</th>\n",
       "      <td>3</td>\n",
       "      <td>nisha shukla</td>\n",
       "      <td>22.0</td>\n",
       "      <td>32000.0</td>\n",
       "      <td>region manager</td>\n",
       "      <td>2.903482e+09</td>\n",
       "    </tr>\n",
       "    <tr>\n",
       "      <th>3</th>\n",
       "      <td>4</td>\n",
       "      <td>kriti rajput</td>\n",
       "      <td>22.0</td>\n",
       "      <td>3333.0</td>\n",
       "      <td>NaN</td>\n",
       "      <td>NaN</td>\n",
       "    </tr>\n",
       "    <tr>\n",
       "      <th>4</th>\n",
       "      <td>5</td>\n",
       "      <td>deepak gupta</td>\n",
       "      <td>23.0</td>\n",
       "      <td>33000.0</td>\n",
       "      <td>manager</td>\n",
       "      <td>2.343243e+08</td>\n",
       "    </tr>\n",
       "    <tr>\n",
       "      <th>5</th>\n",
       "      <td>6</td>\n",
       "      <td>mayank singh</td>\n",
       "      <td>23.0</td>\n",
       "      <td>NaN</td>\n",
       "      <td>region manager</td>\n",
       "      <td>2.334243e+08</td>\n",
       "    </tr>\n",
       "    <tr>\n",
       "      <th>6</th>\n",
       "      <td>7</td>\n",
       "      <td>aditya sagar</td>\n",
       "      <td>NaN</td>\n",
       "      <td>23333.0</td>\n",
       "      <td>manager</td>\n",
       "      <td>2.342423e+09</td>\n",
       "    </tr>\n",
       "    <tr>\n",
       "      <th>7</th>\n",
       "      <td>8</td>\n",
       "      <td>prashant</td>\n",
       "      <td>22.0</td>\n",
       "      <td>3333.0</td>\n",
       "      <td>director</td>\n",
       "      <td>2.324343e+07</td>\n",
       "    </tr>\n",
       "  </tbody>\n",
       "</table>\n",
       "</div>"
      ],
      "text/plain": [
       "   sno             name   age   salary     designation        mobile\n",
       "0    1    shabeeh abaas  23.0  20000.0         manager  9.140098e+09\n",
       "1    2  kashish agrawal  21.0  23000.0        manager   3.242343e+08\n",
       "2    3     nisha shukla  22.0  32000.0  region manager  2.903482e+09\n",
       "3    4     kriti rajput  22.0   3333.0             NaN           NaN\n",
       "4    5     deepak gupta  23.0  33000.0         manager  2.343243e+08\n",
       "5    6     mayank singh  23.0      NaN  region manager  2.334243e+08\n",
       "6    7     aditya sagar   NaN  23333.0         manager  2.342423e+09\n",
       "7    8         prashant  22.0   3333.0        director  2.324343e+07"
      ]
     },
     "execution_count": 91,
     "metadata": {},
     "output_type": "execute_result"
    }
   ],
   "source": [
    "#final apply\n",
    "df['salary']=df['salary'].apply(salary_clean)\n",
    "df"
   ]
  },
  {
   "cell_type": "markdown",
   "metadata": {},
   "source": [
    "removing column mobile"
   ]
  },
  {
   "cell_type": "code",
   "execution_count": 92,
   "metadata": {},
   "outputs": [],
   "source": [
    "#test run       df.drop('['mobile','sno','name'],axis=1) #axis define column \n",
    "#if any col has same value or unique values then the column is worst\n",
    "#(but it is not for the predictable col)"
   ]
  },
  {
   "cell_type": "code",
   "execution_count": 93,
   "metadata": {},
   "outputs": [
    {
     "data": {
      "text/html": [
       "<div>\n",
       "<style scoped>\n",
       "    .dataframe tbody tr th:only-of-type {\n",
       "        vertical-align: middle;\n",
       "    }\n",
       "\n",
       "    .dataframe tbody tr th {\n",
       "        vertical-align: top;\n",
       "    }\n",
       "\n",
       "    .dataframe thead th {\n",
       "        text-align: right;\n",
       "    }\n",
       "</style>\n",
       "<table border=\"1\" class=\"dataframe\">\n",
       "  <thead>\n",
       "    <tr style=\"text-align: right;\">\n",
       "      <th></th>\n",
       "      <th>age</th>\n",
       "      <th>salary</th>\n",
       "      <th>designation</th>\n",
       "    </tr>\n",
       "  </thead>\n",
       "  <tbody>\n",
       "    <tr>\n",
       "      <th>0</th>\n",
       "      <td>23.0</td>\n",
       "      <td>20000.0</td>\n",
       "      <td>manager</td>\n",
       "    </tr>\n",
       "    <tr>\n",
       "      <th>1</th>\n",
       "      <td>21.0</td>\n",
       "      <td>23000.0</td>\n",
       "      <td>manager</td>\n",
       "    </tr>\n",
       "    <tr>\n",
       "      <th>2</th>\n",
       "      <td>22.0</td>\n",
       "      <td>32000.0</td>\n",
       "      <td>region manager</td>\n",
       "    </tr>\n",
       "    <tr>\n",
       "      <th>3</th>\n",
       "      <td>22.0</td>\n",
       "      <td>3333.0</td>\n",
       "      <td>NaN</td>\n",
       "    </tr>\n",
       "    <tr>\n",
       "      <th>4</th>\n",
       "      <td>23.0</td>\n",
       "      <td>33000.0</td>\n",
       "      <td>manager</td>\n",
       "    </tr>\n",
       "    <tr>\n",
       "      <th>5</th>\n",
       "      <td>23.0</td>\n",
       "      <td>NaN</td>\n",
       "      <td>region manager</td>\n",
       "    </tr>\n",
       "    <tr>\n",
       "      <th>6</th>\n",
       "      <td>NaN</td>\n",
       "      <td>23333.0</td>\n",
       "      <td>manager</td>\n",
       "    </tr>\n",
       "    <tr>\n",
       "      <th>7</th>\n",
       "      <td>22.0</td>\n",
       "      <td>3333.0</td>\n",
       "      <td>director</td>\n",
       "    </tr>\n",
       "  </tbody>\n",
       "</table>\n",
       "</div>"
      ],
      "text/plain": [
       "    age   salary     designation\n",
       "0  23.0  20000.0         manager\n",
       "1  21.0  23000.0        manager \n",
       "2  22.0  32000.0  region manager\n",
       "3  22.0   3333.0             NaN\n",
       "4  23.0  33000.0         manager\n",
       "5  23.0      NaN  region manager\n",
       "6   NaN  23333.0         manager\n",
       "7  22.0   3333.0        director"
      ]
     },
     "execution_count": 93,
     "metadata": {},
     "output_type": "execute_result"
    }
   ],
   "source": [
    "#actual run\n",
    "df.drop(['mobile','sno','name'],axis=1,inplace=True)#inpalce makes the changes into the actual data\n",
    "df"
   ]
  },
  {
   "cell_type": "markdown",
   "metadata": {},
   "source": [
    "# Scikit-learn\n"
   ]
  },
  {
   "cell_type": "code",
   "execution_count": 94,
   "metadata": {},
   "outputs": [],
   "source": [
    "from sklearn.impute import SimpleImputer"
   ]
  },
  {
   "cell_type": "code",
   "execution_count": 95,
   "metadata": {},
   "outputs": [
    {
     "name": "stdout",
     "output_type": "stream",
     "text": [
      "\u001b[1;31mInit signature:\u001b[0m\n",
      "\u001b[0mSimpleImputer\u001b[0m\u001b[1;33m(\u001b[0m\u001b[1;33m\n",
      "\u001b[0m    \u001b[1;33m*\u001b[0m\u001b[1;33m,\u001b[0m\u001b[1;33m\n",
      "\u001b[0m    \u001b[0mmissing_values\u001b[0m\u001b[1;33m=\u001b[0m\u001b[0mnan\u001b[0m\u001b[1;33m,\u001b[0m\u001b[1;33m\n",
      "\u001b[0m    \u001b[0mstrategy\u001b[0m\u001b[1;33m=\u001b[0m\u001b[1;34m'mean'\u001b[0m\u001b[1;33m,\u001b[0m\u001b[1;33m\n",
      "\u001b[0m    \u001b[0mfill_value\u001b[0m\u001b[1;33m=\u001b[0m\u001b[1;32mNone\u001b[0m\u001b[1;33m,\u001b[0m\u001b[1;33m\n",
      "\u001b[0m    \u001b[0mverbose\u001b[0m\u001b[1;33m=\u001b[0m\u001b[1;36m0\u001b[0m\u001b[1;33m,\u001b[0m\u001b[1;33m\n",
      "\u001b[0m    \u001b[0mcopy\u001b[0m\u001b[1;33m=\u001b[0m\u001b[1;32mTrue\u001b[0m\u001b[1;33m,\u001b[0m\u001b[1;33m\n",
      "\u001b[0m    \u001b[0madd_indicator\u001b[0m\u001b[1;33m=\u001b[0m\u001b[1;32mFalse\u001b[0m\u001b[1;33m,\u001b[0m\u001b[1;33m\n",
      "\u001b[0m\u001b[1;33m)\u001b[0m\u001b[1;33m\u001b[0m\u001b[1;33m\u001b[0m\u001b[0m\n",
      "\u001b[1;31mDocstring:\u001b[0m     \n",
      "Imputation transformer for completing missing values.\n",
      "\n",
      "Read more in the :ref:`User Guide <impute>`.\n",
      "\n",
      ".. versionadded:: 0.20\n",
      "   `SimpleImputer` replaces the previous `sklearn.preprocessing.Imputer`\n",
      "   estimator which is now removed.\n",
      "\n",
      "Parameters\n",
      "----------\n",
      "missing_values : int, float, str, np.nan or None, default=np.nan\n",
      "    The placeholder for the missing values. All occurrences of\n",
      "    `missing_values` will be imputed. For pandas' dataframes with\n",
      "    nullable integer dtypes with missing values, `missing_values`\n",
      "    should be set to `np.nan`, since `pd.NA` will be converted to `np.nan`.\n",
      "\n",
      "strategy : str, default='mean'\n",
      "    The imputation strategy.\n",
      "\n",
      "    - If \"mean\", then replace missing values using the mean along\n",
      "      each column. Can only be used with numeric data.\n",
      "    - If \"median\", then replace missing values using the median along\n",
      "      each column. Can only be used with numeric data.\n",
      "    - If \"most_frequent\", then replace missing using the most frequent\n",
      "      value along each column. Can be used with strings or numeric data.\n",
      "      If there is more than one such value, only the smallest is returned.\n",
      "    - If \"constant\", then replace missing values with fill_value. Can be\n",
      "      used with strings or numeric data.\n",
      "\n",
      "    .. versionadded:: 0.20\n",
      "       strategy=\"constant\" for fixed value imputation.\n",
      "\n",
      "fill_value : str or numerical value, default=None\n",
      "    When strategy == \"constant\", fill_value is used to replace all\n",
      "    occurrences of missing_values.\n",
      "    If left to the default, fill_value will be 0 when imputing numerical\n",
      "    data and \"missing_value\" for strings or object data types.\n",
      "\n",
      "verbose : int, default=0\n",
      "    Controls the verbosity of the imputer.\n",
      "\n",
      "copy : bool, default=True\n",
      "    If True, a copy of `X` will be created. If False, imputation will\n",
      "    be done in-place whenever possible. Note that, in the following cases,\n",
      "    a new copy will always be made, even if `copy=False`:\n",
      "\n",
      "    - If `X` is not an array of floating values;\n",
      "    - If `X` is encoded as a CSR matrix;\n",
      "    - If `add_indicator=True`.\n",
      "\n",
      "add_indicator : bool, default=False\n",
      "    If True, a :class:`MissingIndicator` transform will stack onto output\n",
      "    of the imputer's transform. This allows a predictive estimator\n",
      "    to account for missingness despite imputation. If a feature has no\n",
      "    missing values at fit/train time, the feature won't appear on\n",
      "    the missing indicator even if there are missing values at\n",
      "    transform/test time.\n",
      "\n",
      "Attributes\n",
      "----------\n",
      "statistics_ : array of shape (n_features,)\n",
      "    The imputation fill value for each feature.\n",
      "    Computing statistics can result in `np.nan` values.\n",
      "    During :meth:`transform`, features corresponding to `np.nan`\n",
      "    statistics will be discarded.\n",
      "\n",
      "indicator_ : :class:`~sklearn.impute.MissingIndicator`\n",
      "    Indicator used to add binary indicators for missing values.\n",
      "    `None` if `add_indicator=False`.\n",
      "\n",
      "n_features_in_ : int\n",
      "    Number of features seen during :term:`fit`.\n",
      "\n",
      "    .. versionadded:: 0.24\n",
      "\n",
      "feature_names_in_ : ndarray of shape (`n_features_in_`,)\n",
      "    Names of features seen during :term:`fit`. Defined only when `X`\n",
      "    has feature names that are all strings.\n",
      "\n",
      "    .. versionadded:: 1.0\n",
      "\n",
      "See Also\n",
      "--------\n",
      "IterativeImputer : Multivariate imputation of missing values.\n",
      "\n",
      "Notes\n",
      "-----\n",
      "Columns which only contained missing values at :meth:`fit` are discarded\n",
      "upon :meth:`transform` if strategy is not `\"constant\"`.\n",
      "\n",
      "Examples\n",
      "--------\n",
      ">>> import numpy as np\n",
      ">>> from sklearn.impute import SimpleImputer\n",
      ">>> imp_mean = SimpleImputer(missing_values=np.nan, strategy='mean')\n",
      ">>> imp_mean.fit([[7, 2, 3], [4, np.nan, 6], [10, 5, 9]])\n",
      "SimpleImputer()\n",
      ">>> X = [[np.nan, 2, 3], [4, np.nan, 6], [10, np.nan, 9]]\n",
      ">>> print(imp_mean.transform(X))\n",
      "[[ 7.   2.   3. ]\n",
      " [ 4.   3.5  6. ]\n",
      " [10.   3.5  9. ]]\n",
      "\u001b[1;31mFile:\u001b[0m           c:\\users\\administrator\\miniconda3\\envs\\digi\\lib\\site-packages\\sklearn\\impute\\_base.py\n",
      "\u001b[1;31mType:\u001b[0m           type\n",
      "\u001b[1;31mSubclasses:\u001b[0m     \n"
     ]
    }
   ],
   "source": [
    "SimpleImputer?"
   ]
  },
  {
   "cell_type": "code",
   "execution_count": 96,
   "metadata": {},
   "outputs": [],
   "source": [
    "imputer = SimpleImputer()"
   ]
  },
  {
   "cell_type": "code",
   "execution_count": 97,
   "metadata": {},
   "outputs": [
    {
     "data": {
      "text/plain": [
       "array([[2.30000000e+01, 2.00000000e+04],\n",
       "       [2.10000000e+01, 2.30000000e+04],\n",
       "       [2.20000000e+01, 3.20000000e+04],\n",
       "       [2.20000000e+01, 3.33300000e+03],\n",
       "       [2.30000000e+01, 3.30000000e+04],\n",
       "       [2.30000000e+01, 1.97141429e+04],\n",
       "       [2.22857143e+01, 2.33330000e+04],\n",
       "       [2.20000000e+01, 3.33300000e+03]])"
      ]
     },
     "execution_count": 97,
     "metadata": {},
     "output_type": "execute_result"
    }
   ],
   "source": [
    "cols= [\"age\",\"salary\"]\n",
    "imputer.fit_transform(df[cols])"
   ]
  },
  {
   "cell_type": "code",
   "execution_count": 98,
   "metadata": {},
   "outputs": [],
   "source": [
    "cols= [\"age\",\"salary\"]\n",
    "df[cols]= imputer.fit_transform(df[cols])"
   ]
  },
  {
   "cell_type": "code",
   "execution_count": 99,
   "metadata": {},
   "outputs": [
    {
     "data": {
      "text/html": [
       "<div>\n",
       "<style scoped>\n",
       "    .dataframe tbody tr th:only-of-type {\n",
       "        vertical-align: middle;\n",
       "    }\n",
       "\n",
       "    .dataframe tbody tr th {\n",
       "        vertical-align: top;\n",
       "    }\n",
       "\n",
       "    .dataframe thead th {\n",
       "        text-align: right;\n",
       "    }\n",
       "</style>\n",
       "<table border=\"1\" class=\"dataframe\">\n",
       "  <thead>\n",
       "    <tr style=\"text-align: right;\">\n",
       "      <th></th>\n",
       "      <th>age</th>\n",
       "      <th>salary</th>\n",
       "      <th>designation</th>\n",
       "    </tr>\n",
       "  </thead>\n",
       "  <tbody>\n",
       "    <tr>\n",
       "      <th>0</th>\n",
       "      <td>23.000000</td>\n",
       "      <td>20000.000000</td>\n",
       "      <td>manager</td>\n",
       "    </tr>\n",
       "    <tr>\n",
       "      <th>1</th>\n",
       "      <td>21.000000</td>\n",
       "      <td>23000.000000</td>\n",
       "      <td>manager</td>\n",
       "    </tr>\n",
       "    <tr>\n",
       "      <th>2</th>\n",
       "      <td>22.000000</td>\n",
       "      <td>32000.000000</td>\n",
       "      <td>region manager</td>\n",
       "    </tr>\n",
       "    <tr>\n",
       "      <th>3</th>\n",
       "      <td>22.000000</td>\n",
       "      <td>3333.000000</td>\n",
       "      <td>NaN</td>\n",
       "    </tr>\n",
       "    <tr>\n",
       "      <th>4</th>\n",
       "      <td>23.000000</td>\n",
       "      <td>33000.000000</td>\n",
       "      <td>manager</td>\n",
       "    </tr>\n",
       "    <tr>\n",
       "      <th>5</th>\n",
       "      <td>23.000000</td>\n",
       "      <td>19714.142857</td>\n",
       "      <td>region manager</td>\n",
       "    </tr>\n",
       "    <tr>\n",
       "      <th>6</th>\n",
       "      <td>22.285714</td>\n",
       "      <td>23333.000000</td>\n",
       "      <td>manager</td>\n",
       "    </tr>\n",
       "    <tr>\n",
       "      <th>7</th>\n",
       "      <td>22.000000</td>\n",
       "      <td>3333.000000</td>\n",
       "      <td>director</td>\n",
       "    </tr>\n",
       "  </tbody>\n",
       "</table>\n",
       "</div>"
      ],
      "text/plain": [
       "         age        salary     designation\n",
       "0  23.000000  20000.000000         manager\n",
       "1  21.000000  23000.000000        manager \n",
       "2  22.000000  32000.000000  region manager\n",
       "3  22.000000   3333.000000             NaN\n",
       "4  23.000000  33000.000000         manager\n",
       "5  23.000000  19714.142857  region manager\n",
       "6  22.285714  23333.000000         manager\n",
       "7  22.000000   3333.000000        director"
      ]
     },
     "execution_count": 99,
     "metadata": {},
     "output_type": "execute_result"
    }
   ],
   "source": [
    "df"
   ]
  },
  {
   "cell_type": "code",
   "execution_count": 100,
   "metadata": {},
   "outputs": [
    {
     "data": {
      "text/plain": [
       "array([['manager'],\n",
       "       ['manager '],\n",
       "       ['region manager'],\n",
       "       ['manager'],\n",
       "       ['manager'],\n",
       "       ['region manager'],\n",
       "       ['manager'],\n",
       "       ['director']], dtype=object)"
      ]
     },
     "execution_count": 100,
     "metadata": {},
     "output_type": "execute_result"
    }
   ],
   "source": [
    "imp2 =SimpleImputer(strategy='most_frequent')\n",
    "imp2.fit_transform(df[[\"designation\"]])"
   ]
  },
  {
   "cell_type": "code",
   "execution_count": 101,
   "metadata": {},
   "outputs": [
    {
     "data": {
      "text/plain": [
       "SimpleImputer()"
      ]
     },
     "execution_count": 101,
     "metadata": {},
     "output_type": "execute_result"
    }
   ],
   "source": [
    "SimpleImputer()"
   ]
  },
  {
   "cell_type": "code",
   "execution_count": 102,
   "metadata": {},
   "outputs": [],
   "source": [
    "imp2 =SimpleImputer(strategy='most_frequent')\n",
    "df['designation']=imp2.fit_transform(df[[\"designation\"]])"
   ]
  },
  {
   "cell_type": "code",
   "execution_count": 103,
   "metadata": {},
   "outputs": [
    {
     "data": {
      "text/html": [
       "<div>\n",
       "<style scoped>\n",
       "    .dataframe tbody tr th:only-of-type {\n",
       "        vertical-align: middle;\n",
       "    }\n",
       "\n",
       "    .dataframe tbody tr th {\n",
       "        vertical-align: top;\n",
       "    }\n",
       "\n",
       "    .dataframe thead th {\n",
       "        text-align: right;\n",
       "    }\n",
       "</style>\n",
       "<table border=\"1\" class=\"dataframe\">\n",
       "  <thead>\n",
       "    <tr style=\"text-align: right;\">\n",
       "      <th></th>\n",
       "      <th>age</th>\n",
       "      <th>salary</th>\n",
       "      <th>designation</th>\n",
       "    </tr>\n",
       "  </thead>\n",
       "  <tbody>\n",
       "    <tr>\n",
       "      <th>0</th>\n",
       "      <td>23.000000</td>\n",
       "      <td>20000.000000</td>\n",
       "      <td>manager</td>\n",
       "    </tr>\n",
       "    <tr>\n",
       "      <th>1</th>\n",
       "      <td>21.000000</td>\n",
       "      <td>23000.000000</td>\n",
       "      <td>manager</td>\n",
       "    </tr>\n",
       "    <tr>\n",
       "      <th>2</th>\n",
       "      <td>22.000000</td>\n",
       "      <td>32000.000000</td>\n",
       "      <td>region manager</td>\n",
       "    </tr>\n",
       "    <tr>\n",
       "      <th>3</th>\n",
       "      <td>22.000000</td>\n",
       "      <td>3333.000000</td>\n",
       "      <td>manager</td>\n",
       "    </tr>\n",
       "    <tr>\n",
       "      <th>4</th>\n",
       "      <td>23.000000</td>\n",
       "      <td>33000.000000</td>\n",
       "      <td>manager</td>\n",
       "    </tr>\n",
       "    <tr>\n",
       "      <th>5</th>\n",
       "      <td>23.000000</td>\n",
       "      <td>19714.142857</td>\n",
       "      <td>region manager</td>\n",
       "    </tr>\n",
       "    <tr>\n",
       "      <th>6</th>\n",
       "      <td>22.285714</td>\n",
       "      <td>23333.000000</td>\n",
       "      <td>manager</td>\n",
       "    </tr>\n",
       "    <tr>\n",
       "      <th>7</th>\n",
       "      <td>22.000000</td>\n",
       "      <td>3333.000000</td>\n",
       "      <td>director</td>\n",
       "    </tr>\n",
       "  </tbody>\n",
       "</table>\n",
       "</div>"
      ],
      "text/plain": [
       "         age        salary     designation\n",
       "0  23.000000  20000.000000         manager\n",
       "1  21.000000  23000.000000        manager \n",
       "2  22.000000  32000.000000  region manager\n",
       "3  22.000000   3333.000000         manager\n",
       "4  23.000000  33000.000000         manager\n",
       "5  23.000000  19714.142857  region manager\n",
       "6  22.285714  23333.000000         manager\n",
       "7  22.000000   3333.000000        director"
      ]
     },
     "execution_count": 103,
     "metadata": {},
     "output_type": "execute_result"
    }
   ],
   "source": [
    "df"
   ]
  },
  {
   "cell_type": "code",
   "execution_count": 104,
   "metadata": {},
   "outputs": [],
   "source": [
    "gender = [\"male\",\"female\"]*4"
   ]
  },
  {
   "cell_type": "code",
   "execution_count": 105,
   "metadata": {},
   "outputs": [],
   "source": [
    "df[\"Gender\"]=gender"
   ]
  },
  {
   "cell_type": "code",
   "execution_count": 106,
   "metadata": {},
   "outputs": [
    {
     "data": {
      "text/html": [
       "<div>\n",
       "<style scoped>\n",
       "    .dataframe tbody tr th:only-of-type {\n",
       "        vertical-align: middle;\n",
       "    }\n",
       "\n",
       "    .dataframe tbody tr th {\n",
       "        vertical-align: top;\n",
       "    }\n",
       "\n",
       "    .dataframe thead th {\n",
       "        text-align: right;\n",
       "    }\n",
       "</style>\n",
       "<table border=\"1\" class=\"dataframe\">\n",
       "  <thead>\n",
       "    <tr style=\"text-align: right;\">\n",
       "      <th></th>\n",
       "      <th>age</th>\n",
       "      <th>salary</th>\n",
       "      <th>designation</th>\n",
       "      <th>Gender</th>\n",
       "    </tr>\n",
       "  </thead>\n",
       "  <tbody>\n",
       "    <tr>\n",
       "      <th>0</th>\n",
       "      <td>23.000000</td>\n",
       "      <td>20000.000000</td>\n",
       "      <td>manager</td>\n",
       "      <td>male</td>\n",
       "    </tr>\n",
       "    <tr>\n",
       "      <th>1</th>\n",
       "      <td>21.000000</td>\n",
       "      <td>23000.000000</td>\n",
       "      <td>manager</td>\n",
       "      <td>female</td>\n",
       "    </tr>\n",
       "    <tr>\n",
       "      <th>2</th>\n",
       "      <td>22.000000</td>\n",
       "      <td>32000.000000</td>\n",
       "      <td>region manager</td>\n",
       "      <td>male</td>\n",
       "    </tr>\n",
       "    <tr>\n",
       "      <th>3</th>\n",
       "      <td>22.000000</td>\n",
       "      <td>3333.000000</td>\n",
       "      <td>manager</td>\n",
       "      <td>female</td>\n",
       "    </tr>\n",
       "    <tr>\n",
       "      <th>4</th>\n",
       "      <td>23.000000</td>\n",
       "      <td>33000.000000</td>\n",
       "      <td>manager</td>\n",
       "      <td>male</td>\n",
       "    </tr>\n",
       "    <tr>\n",
       "      <th>5</th>\n",
       "      <td>23.000000</td>\n",
       "      <td>19714.142857</td>\n",
       "      <td>region manager</td>\n",
       "      <td>female</td>\n",
       "    </tr>\n",
       "    <tr>\n",
       "      <th>6</th>\n",
       "      <td>22.285714</td>\n",
       "      <td>23333.000000</td>\n",
       "      <td>manager</td>\n",
       "      <td>male</td>\n",
       "    </tr>\n",
       "    <tr>\n",
       "      <th>7</th>\n",
       "      <td>22.000000</td>\n",
       "      <td>3333.000000</td>\n",
       "      <td>director</td>\n",
       "      <td>female</td>\n",
       "    </tr>\n",
       "  </tbody>\n",
       "</table>\n",
       "</div>"
      ],
      "text/plain": [
       "         age        salary     designation  Gender\n",
       "0  23.000000  20000.000000         manager    male\n",
       "1  21.000000  23000.000000        manager   female\n",
       "2  22.000000  32000.000000  region manager    male\n",
       "3  22.000000   3333.000000         manager  female\n",
       "4  23.000000  33000.000000         manager    male\n",
       "5  23.000000  19714.142857  region manager  female\n",
       "6  22.285714  23333.000000         manager    male\n",
       "7  22.000000   3333.000000        director  female"
      ]
     },
     "execution_count": 106,
     "metadata": {},
     "output_type": "execute_result"
    }
   ],
   "source": [
    "df"
   ]
  },
  {
   "cell_type": "code",
   "execution_count": 107,
   "metadata": {},
   "outputs": [],
   "source": [
    "df.rename({\"salary\" : \"pay\"},axis=1,inplace=True)"
   ]
  },
  {
   "cell_type": "code",
   "execution_count": 108,
   "metadata": {},
   "outputs": [
    {
     "data": {
      "text/html": [
       "<div>\n",
       "<style scoped>\n",
       "    .dataframe tbody tr th:only-of-type {\n",
       "        vertical-align: middle;\n",
       "    }\n",
       "\n",
       "    .dataframe tbody tr th {\n",
       "        vertical-align: top;\n",
       "    }\n",
       "\n",
       "    .dataframe thead th {\n",
       "        text-align: right;\n",
       "    }\n",
       "</style>\n",
       "<table border=\"1\" class=\"dataframe\">\n",
       "  <thead>\n",
       "    <tr style=\"text-align: right;\">\n",
       "      <th></th>\n",
       "      <th>age</th>\n",
       "      <th>pay</th>\n",
       "      <th>designation</th>\n",
       "      <th>Gender</th>\n",
       "    </tr>\n",
       "  </thead>\n",
       "  <tbody>\n",
       "    <tr>\n",
       "      <th>0</th>\n",
       "      <td>23.000000</td>\n",
       "      <td>20000.000000</td>\n",
       "      <td>manager</td>\n",
       "      <td>male</td>\n",
       "    </tr>\n",
       "    <tr>\n",
       "      <th>1</th>\n",
       "      <td>21.000000</td>\n",
       "      <td>23000.000000</td>\n",
       "      <td>manager</td>\n",
       "      <td>female</td>\n",
       "    </tr>\n",
       "    <tr>\n",
       "      <th>2</th>\n",
       "      <td>22.000000</td>\n",
       "      <td>32000.000000</td>\n",
       "      <td>region manager</td>\n",
       "      <td>male</td>\n",
       "    </tr>\n",
       "    <tr>\n",
       "      <th>3</th>\n",
       "      <td>22.000000</td>\n",
       "      <td>3333.000000</td>\n",
       "      <td>manager</td>\n",
       "      <td>female</td>\n",
       "    </tr>\n",
       "    <tr>\n",
       "      <th>4</th>\n",
       "      <td>23.000000</td>\n",
       "      <td>33000.000000</td>\n",
       "      <td>manager</td>\n",
       "      <td>male</td>\n",
       "    </tr>\n",
       "    <tr>\n",
       "      <th>5</th>\n",
       "      <td>23.000000</td>\n",
       "      <td>19714.142857</td>\n",
       "      <td>region manager</td>\n",
       "      <td>female</td>\n",
       "    </tr>\n",
       "    <tr>\n",
       "      <th>6</th>\n",
       "      <td>22.285714</td>\n",
       "      <td>23333.000000</td>\n",
       "      <td>manager</td>\n",
       "      <td>male</td>\n",
       "    </tr>\n",
       "    <tr>\n",
       "      <th>7</th>\n",
       "      <td>22.000000</td>\n",
       "      <td>3333.000000</td>\n",
       "      <td>director</td>\n",
       "      <td>female</td>\n",
       "    </tr>\n",
       "  </tbody>\n",
       "</table>\n",
       "</div>"
      ],
      "text/plain": [
       "         age           pay     designation  Gender\n",
       "0  23.000000  20000.000000         manager    male\n",
       "1  21.000000  23000.000000        manager   female\n",
       "2  22.000000  32000.000000  region manager    male\n",
       "3  22.000000   3333.000000         manager  female\n",
       "4  23.000000  33000.000000         manager    male\n",
       "5  23.000000  19714.142857  region manager  female\n",
       "6  22.285714  23333.000000         manager    male\n",
       "7  22.000000   3333.000000        director  female"
      ]
     },
     "execution_count": 108,
     "metadata": {},
     "output_type": "execute_result"
    }
   ],
   "source": [
    "df"
   ]
  },
  {
   "cell_type": "code",
   "execution_count": 109,
   "metadata": {},
   "outputs": [
    {
     "data": {
      "text/plain": [
       "age               23.0\n",
       "pay            20000.0\n",
       "designation    manager\n",
       "Gender            male\n",
       "Name: 0, dtype: object"
      ]
     },
     "execution_count": 109,
     "metadata": {},
     "output_type": "execute_result"
    }
   ],
   "source": [
    "df.loc[0]"
   ]
  },
  {
   "cell_type": "code",
   "execution_count": 110,
   "metadata": {},
   "outputs": [],
   "source": [
    "row=[{\n",
    "    \"age\":\"19\",\n",
    "    \"pay\":\"2000\",\n",
    "    \"designation\":\"Assistant manager\",\n",
    "    \"Gender\":\"male\"\n",
    "},\n",
    "{\n",
    "    \"age\":\"120\",\n",
    "    \"pay\":\"3000\",\n",
    "    \"designation\":\"manager\",\n",
    "    \"Gender\":\"female\"\n",
    "}]"
   ]
  },
  {
   "cell_type": "code",
   "execution_count": 111,
   "metadata": {},
   "outputs": [
    {
     "name": "stderr",
     "output_type": "stream",
     "text": [
      "<ipython-input-111-6ba6588aaf38>:1: FutureWarning: The frame.append method is deprecated and will be removed from pandas in a future version. Use pandas.concat instead.\n",
      "  df =df.append(row,ignore_index=True)\n"
     ]
    }
   ],
   "source": [
    "df =df.append(row,ignore_index=True)"
   ]
  },
  {
   "cell_type": "code",
   "execution_count": 112,
   "metadata": {},
   "outputs": [
    {
     "data": {
      "text/html": [
       "<div>\n",
       "<style scoped>\n",
       "    .dataframe tbody tr th:only-of-type {\n",
       "        vertical-align: middle;\n",
       "    }\n",
       "\n",
       "    .dataframe tbody tr th {\n",
       "        vertical-align: top;\n",
       "    }\n",
       "\n",
       "    .dataframe thead th {\n",
       "        text-align: right;\n",
       "    }\n",
       "</style>\n",
       "<table border=\"1\" class=\"dataframe\">\n",
       "  <thead>\n",
       "    <tr style=\"text-align: right;\">\n",
       "      <th></th>\n",
       "      <th>age</th>\n",
       "      <th>pay</th>\n",
       "      <th>designation</th>\n",
       "      <th>Gender</th>\n",
       "    </tr>\n",
       "  </thead>\n",
       "  <tbody>\n",
       "    <tr>\n",
       "      <th>0</th>\n",
       "      <td>23.0</td>\n",
       "      <td>20000.0</td>\n",
       "      <td>manager</td>\n",
       "      <td>male</td>\n",
       "    </tr>\n",
       "    <tr>\n",
       "      <th>1</th>\n",
       "      <td>21.0</td>\n",
       "      <td>23000.0</td>\n",
       "      <td>manager</td>\n",
       "      <td>female</td>\n",
       "    </tr>\n",
       "    <tr>\n",
       "      <th>2</th>\n",
       "      <td>22.0</td>\n",
       "      <td>32000.0</td>\n",
       "      <td>region manager</td>\n",
       "      <td>male</td>\n",
       "    </tr>\n",
       "    <tr>\n",
       "      <th>3</th>\n",
       "      <td>22.0</td>\n",
       "      <td>3333.0</td>\n",
       "      <td>manager</td>\n",
       "      <td>female</td>\n",
       "    </tr>\n",
       "    <tr>\n",
       "      <th>4</th>\n",
       "      <td>23.0</td>\n",
       "      <td>33000.0</td>\n",
       "      <td>manager</td>\n",
       "      <td>male</td>\n",
       "    </tr>\n",
       "    <tr>\n",
       "      <th>5</th>\n",
       "      <td>23.0</td>\n",
       "      <td>19714.142857</td>\n",
       "      <td>region manager</td>\n",
       "      <td>female</td>\n",
       "    </tr>\n",
       "    <tr>\n",
       "      <th>6</th>\n",
       "      <td>22.285714</td>\n",
       "      <td>23333.0</td>\n",
       "      <td>manager</td>\n",
       "      <td>male</td>\n",
       "    </tr>\n",
       "    <tr>\n",
       "      <th>7</th>\n",
       "      <td>22.0</td>\n",
       "      <td>3333.0</td>\n",
       "      <td>director</td>\n",
       "      <td>female</td>\n",
       "    </tr>\n",
       "    <tr>\n",
       "      <th>8</th>\n",
       "      <td>19</td>\n",
       "      <td>2000</td>\n",
       "      <td>Assistant manager</td>\n",
       "      <td>male</td>\n",
       "    </tr>\n",
       "    <tr>\n",
       "      <th>9</th>\n",
       "      <td>120</td>\n",
       "      <td>3000</td>\n",
       "      <td>manager</td>\n",
       "      <td>female</td>\n",
       "    </tr>\n",
       "  </tbody>\n",
       "</table>\n",
       "</div>"
      ],
      "text/plain": [
       "         age           pay        designation  Gender\n",
       "0       23.0       20000.0            manager    male\n",
       "1       21.0       23000.0           manager   female\n",
       "2       22.0       32000.0     region manager    male\n",
       "3       22.0        3333.0            manager  female\n",
       "4       23.0       33000.0            manager    male\n",
       "5       23.0  19714.142857     region manager  female\n",
       "6  22.285714       23333.0            manager    male\n",
       "7       22.0        3333.0           director  female\n",
       "8         19          2000  Assistant manager    male\n",
       "9        120          3000            manager  female"
      ]
     },
     "execution_count": 112,
     "metadata": {},
     "output_type": "execute_result"
    }
   ],
   "source": [
    "df"
   ]
  },
  {
   "cell_type": "code",
   "execution_count": 113,
   "metadata": {},
   "outputs": [
    {
     "data": {
      "text/plain": [
       "male      5\n",
       "female    5\n",
       "Name: Gender, dtype: int64"
      ]
     },
     "execution_count": 113,
     "metadata": {},
     "output_type": "execute_result"
    }
   ],
   "source": [
    "df[\"Gender\"].value_counts()"
   ]
  },
  {
   "cell_type": "code",
   "execution_count": 114,
   "metadata": {},
   "outputs": [],
   "source": [
    "from sklearn.preprocessing import LabelEncoder"
   ]
  },
  {
   "cell_type": "code",
   "execution_count": 115,
   "metadata": {},
   "outputs": [
    {
     "data": {
      "text/plain": [
       "LabelEncoder()"
      ]
     },
     "execution_count": 115,
     "metadata": {},
     "output_type": "execute_result"
    }
   ],
   "source": [
    "gender_enc =LabelEncoder()\n",
    "gender_enc.fit(df[\"Gender\"])"
   ]
  },
  {
   "cell_type": "code",
   "execution_count": 116,
   "metadata": {},
   "outputs": [
    {
     "data": {
      "text/plain": [
       "array([1, 0, 1, 0, 1, 0, 1, 0, 1, 0])"
      ]
     },
     "execution_count": 116,
     "metadata": {},
     "output_type": "execute_result"
    }
   ],
   "source": [
    "gender_enc.transform(df[\"Gender\"])"
   ]
  },
  {
   "cell_type": "code",
   "execution_count": 117,
   "metadata": {},
   "outputs": [],
   "source": [
    "df[\"gender\"]=gender_enc.transform(df[\"Gender\"])"
   ]
  },
  {
   "cell_type": "code",
   "execution_count": 119,
   "metadata": {},
   "outputs": [
    {
     "data": {
      "text/html": [
       "<div>\n",
       "<style scoped>\n",
       "    .dataframe tbody tr th:only-of-type {\n",
       "        vertical-align: middle;\n",
       "    }\n",
       "\n",
       "    .dataframe tbody tr th {\n",
       "        vertical-align: top;\n",
       "    }\n",
       "\n",
       "    .dataframe thead th {\n",
       "        text-align: right;\n",
       "    }\n",
       "</style>\n",
       "<table border=\"1\" class=\"dataframe\">\n",
       "  <thead>\n",
       "    <tr style=\"text-align: right;\">\n",
       "      <th></th>\n",
       "      <th>age</th>\n",
       "      <th>pay</th>\n",
       "      <th>designation</th>\n",
       "      <th>Gender</th>\n",
       "      <th>gender</th>\n",
       "    </tr>\n",
       "  </thead>\n",
       "  <tbody>\n",
       "    <tr>\n",
       "      <th>0</th>\n",
       "      <td>23.0</td>\n",
       "      <td>20000.0</td>\n",
       "      <td>manager</td>\n",
       "      <td>male</td>\n",
       "      <td>1</td>\n",
       "    </tr>\n",
       "    <tr>\n",
       "      <th>1</th>\n",
       "      <td>21.0</td>\n",
       "      <td>23000.0</td>\n",
       "      <td>manager</td>\n",
       "      <td>female</td>\n",
       "      <td>0</td>\n",
       "    </tr>\n",
       "    <tr>\n",
       "      <th>2</th>\n",
       "      <td>22.0</td>\n",
       "      <td>32000.0</td>\n",
       "      <td>region manager</td>\n",
       "      <td>male</td>\n",
       "      <td>1</td>\n",
       "    </tr>\n",
       "    <tr>\n",
       "      <th>3</th>\n",
       "      <td>22.0</td>\n",
       "      <td>3333.0</td>\n",
       "      <td>manager</td>\n",
       "      <td>female</td>\n",
       "      <td>0</td>\n",
       "    </tr>\n",
       "    <tr>\n",
       "      <th>4</th>\n",
       "      <td>23.0</td>\n",
       "      <td>33000.0</td>\n",
       "      <td>manager</td>\n",
       "      <td>male</td>\n",
       "      <td>1</td>\n",
       "    </tr>\n",
       "    <tr>\n",
       "      <th>5</th>\n",
       "      <td>23.0</td>\n",
       "      <td>19714.142857</td>\n",
       "      <td>region manager</td>\n",
       "      <td>female</td>\n",
       "      <td>0</td>\n",
       "    </tr>\n",
       "    <tr>\n",
       "      <th>6</th>\n",
       "      <td>22.285714</td>\n",
       "      <td>23333.0</td>\n",
       "      <td>manager</td>\n",
       "      <td>male</td>\n",
       "      <td>1</td>\n",
       "    </tr>\n",
       "    <tr>\n",
       "      <th>7</th>\n",
       "      <td>22.0</td>\n",
       "      <td>3333.0</td>\n",
       "      <td>director</td>\n",
       "      <td>female</td>\n",
       "      <td>0</td>\n",
       "    </tr>\n",
       "    <tr>\n",
       "      <th>8</th>\n",
       "      <td>19</td>\n",
       "      <td>2000</td>\n",
       "      <td>Assistant manager</td>\n",
       "      <td>male</td>\n",
       "      <td>1</td>\n",
       "    </tr>\n",
       "    <tr>\n",
       "      <th>9</th>\n",
       "      <td>120</td>\n",
       "      <td>3000</td>\n",
       "      <td>manager</td>\n",
       "      <td>female</td>\n",
       "      <td>0</td>\n",
       "    </tr>\n",
       "  </tbody>\n",
       "</table>\n",
       "</div>"
      ],
      "text/plain": [
       "         age           pay        designation  Gender  gender\n",
       "0       23.0       20000.0            manager    male       1\n",
       "1       21.0       23000.0           manager   female       0\n",
       "2       22.0       32000.0     region manager    male       1\n",
       "3       22.0        3333.0            manager  female       0\n",
       "4       23.0       33000.0            manager    male       1\n",
       "5       23.0  19714.142857     region manager  female       0\n",
       "6  22.285714       23333.0            manager    male       1\n",
       "7       22.0        3333.0           director  female       0\n",
       "8         19          2000  Assistant manager    male       1\n",
       "9        120          3000            manager  female       0"
      ]
     },
     "execution_count": 119,
     "metadata": {},
     "output_type": "execute_result"
    }
   ],
   "source": [
    "df"
   ]
  },
  {
   "cell_type": "code",
   "execution_count": 120,
   "metadata": {},
   "outputs": [
    {
     "data": {
      "text/plain": [
       "array(['female', 'male'], dtype=object)"
      ]
     },
     "execution_count": 120,
     "metadata": {},
     "output_type": "execute_result"
    }
   ],
   "source": [
    "gender_enc.classes_"
   ]
  },
  {
   "cell_type": "code",
   "execution_count": 125,
   "metadata": {},
   "outputs": [
    {
     "data": {
      "text/plain": [
       "array(['female', 'male'], dtype=object)"
      ]
     },
     "execution_count": 125,
     "metadata": {},
     "output_type": "execute_result"
    }
   ],
   "source": [
    "gender_enc.inverse_transform([0,1]) #decode"
   ]
  },
  {
   "cell_type": "code",
   "execution_count": null,
   "metadata": {},
   "outputs": [],
   "source": []
  }
 ],
 "metadata": {
  "interpreter": {
   "hash": "7f26aba370bbbf2d8f2e3fd699c899a8fabe0bbff00ba38ad8e8f1b69fb2214b"
  },
  "kernelspec": {
   "display_name": "Python 3.10.2 64-bit ('digi': conda)",
   "language": "python",
   "name": "python3"
  },
  "language_info": {
   "codemirror_mode": {
    "name": "ipython",
    "version": 3
   },
   "file_extension": ".py",
   "mimetype": "text/x-python",
   "name": "python",
   "nbconvert_exporter": "python",
   "pygments_lexer": "ipython3",
   "version": "3.9.7"
  },
  "orig_nbformat": 4
 },
 "nbformat": 4,
 "nbformat_minor": 2
}
