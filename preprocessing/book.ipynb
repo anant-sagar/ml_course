{
 "cells": [
  {
   "cell_type": "code",
   "execution_count": 1,
   "metadata": {},
   "outputs": [],
   "source": [
    "import pandas as pd"
   ]
  },
  {
   "cell_type": "code",
   "execution_count": 2,
   "metadata": {},
   "outputs": [],
   "source": [
    "df = pd.read_csv(\"../Book.csv\")"
   ]
  },
  {
   "cell_type": "code",
   "execution_count": 3,
   "metadata": {},
   "outputs": [
    {
     "data": {
      "text/html": [
       "<div>\n",
       "<style scoped>\n",
       "    .dataframe tbody tr th:only-of-type {\n",
       "        vertical-align: middle;\n",
       "    }\n",
       "\n",
       "    .dataframe tbody tr th {\n",
       "        vertical-align: top;\n",
       "    }\n",
       "\n",
       "    .dataframe thead th {\n",
       "        text-align: right;\n",
       "    }\n",
       "</style>\n",
       "<table border=\"1\" class=\"dataframe\">\n",
       "  <thead>\n",
       "    <tr style=\"text-align: right;\">\n",
       "      <th></th>\n",
       "      <th>Sno.</th>\n",
       "      <th>Company</th>\n",
       "      <th>Name</th>\n",
       "      <th>ID</th>\n",
       "      <th>Category</th>\n",
       "      <th>Salary</th>\n",
       "      <th>Position</th>\n",
       "    </tr>\n",
       "  </thead>\n",
       "  <tbody>\n",
       "    <tr>\n",
       "      <th>0</th>\n",
       "      <td>1</td>\n",
       "      <td>NaN</td>\n",
       "      <td>Sam</td>\n",
       "      <td>311</td>\n",
       "      <td>NaN</td>\n",
       "      <td>$400,000</td>\n",
       "      <td>Senior Manager</td>\n",
       "    </tr>\n",
       "    <tr>\n",
       "      <th>1</th>\n",
       "      <td>2</td>\n",
       "      <td>Mcsw</td>\n",
       "      <td>Jacson</td>\n",
       "      <td>211</td>\n",
       "      <td>Male</td>\n",
       "      <td>$452,734</td>\n",
       "      <td>Manager</td>\n",
       "    </tr>\n",
       "    <tr>\n",
       "      <th>2</th>\n",
       "      <td>3</td>\n",
       "      <td>Apple</td>\n",
       "      <td>Ziddain</td>\n",
       "      <td>411</td>\n",
       "      <td>Male</td>\n",
       "      <td>$300,000</td>\n",
       "      <td>Chairperson</td>\n",
       "    </tr>\n",
       "    <tr>\n",
       "      <th>3</th>\n",
       "      <td>4</td>\n",
       "      <td>HCL</td>\n",
       "      <td>Pratik</td>\n",
       "      <td>312</td>\n",
       "      <td>Male</td>\n",
       "      <td>NaN</td>\n",
       "      <td>Chief Head</td>\n",
       "    </tr>\n",
       "    <tr>\n",
       "      <th>4</th>\n",
       "      <td>5</td>\n",
       "      <td>Infosys</td>\n",
       "      <td>Chandran</td>\n",
       "      <td>611</td>\n",
       "      <td>Female</td>\n",
       "      <td>$710,000</td>\n",
       "      <td>Senior Executive</td>\n",
       "    </tr>\n",
       "    <tr>\n",
       "      <th>5</th>\n",
       "      <td>6</td>\n",
       "      <td>Accenture</td>\n",
       "      <td>Jolliot</td>\n",
       "      <td>711</td>\n",
       "      <td>NaN</td>\n",
       "      <td>$501,900</td>\n",
       "      <td>Spokesperson</td>\n",
       "    </tr>\n",
       "    <tr>\n",
       "      <th>6</th>\n",
       "      <td>7</td>\n",
       "      <td>Capgemini</td>\n",
       "      <td>Canger</td>\n",
       "      <td>310</td>\n",
       "      <td>Male</td>\n",
       "      <td>$501,565</td>\n",
       "      <td>NaN</td>\n",
       "    </tr>\n",
       "    <tr>\n",
       "      <th>7</th>\n",
       "      <td>8</td>\n",
       "      <td>NaN</td>\n",
       "      <td>Ayushi</td>\n",
       "      <td>312</td>\n",
       "      <td>Female</td>\n",
       "      <td>$567,299</td>\n",
       "      <td>Sinior Consulant</td>\n",
       "    </tr>\n",
       "    <tr>\n",
       "      <th>8</th>\n",
       "      <td>9</td>\n",
       "      <td>Siemens</td>\n",
       "      <td>Pushpa</td>\n",
       "      <td>313</td>\n",
       "      <td>Female</td>\n",
       "      <td>NaN</td>\n",
       "      <td>NaN</td>\n",
       "    </tr>\n",
       "    <tr>\n",
       "      <th>9</th>\n",
       "      <td>10</td>\n",
       "      <td>Diloitt</td>\n",
       "      <td>Shaharan</td>\n",
       "      <td>511</td>\n",
       "      <td>Male</td>\n",
       "      <td>$898,900</td>\n",
       "      <td>Senior Consulant</td>\n",
       "    </tr>\n",
       "    <tr>\n",
       "      <th>10</th>\n",
       "      <td>11</td>\n",
       "      <td>Google</td>\n",
       "      <td>Sundar</td>\n",
       "      <td>101</td>\n",
       "      <td>NaN</td>\n",
       "      <td>$9,000,101</td>\n",
       "      <td>CEO</td>\n",
       "    </tr>\n",
       "  </tbody>\n",
       "</table>\n",
       "</div>"
      ],
      "text/plain": [
       "    Sno.    Company      Name   ID Category       Salary          Position\n",
       "0      1        NaN       Sam  311      NaN    $400,000     Senior Manager\n",
       "1      2       Mcsw    Jacson  211     Male    $452,734            Manager\n",
       "2      3      Apple   Ziddain  411     Male    $300,000        Chairperson\n",
       "3      4        HCL    Pratik  312     Male          NaN        Chief Head\n",
       "4      5    Infosys  Chandran  611   Female    $710,000   Senior Executive\n",
       "5      6  Accenture   Jolliot  711      NaN    $501,900       Spokesperson\n",
       "6      7  Capgemini    Canger  310     Male    $501,565                NaN\n",
       "7      8        NaN    Ayushi  312   Female    $567,299   Sinior Consulant\n",
       "8      9    Siemens    Pushpa  313   Female          NaN               NaN\n",
       "9     10    Diloitt  Shaharan  511     Male    $898,900   Senior Consulant\n",
       "10    11     Google    Sundar  101      NaN  $9,000,101                CEO"
      ]
     },
     "execution_count": 3,
     "metadata": {},
     "output_type": "execute_result"
    }
   ],
   "source": [
    "df"
   ]
  },
  {
   "cell_type": "code",
   "execution_count": 4,
   "metadata": {},
   "outputs": [],
   "source": [
    "df.drop([\"Sno.\",\"Name\",\"ID\",\"Category\",\"Company\"],axis=1,inplace=True)"
   ]
  },
  {
   "cell_type": "code",
   "execution_count": 18,
   "metadata": {},
   "outputs": [],
   "source": [
    "def clean(sal):\n",
    "    if isinstance(sal,str):\n",
    "        sal = sal.strip()\n",
    "        if \"$\" in sal:\n",
    "            sal = sal.replace(\"$\",\"\")\n",
    "        if \",\" in sal:\n",
    "            sal = sal.replace(\",\",\"\")\n",
    "        return int(sal)\n",
    "    \n",
    "        \n",
    "\n"
   ]
  },
  {
   "cell_type": "code",
   "execution_count": 19,
   "metadata": {},
   "outputs": [
    {
     "data": {
      "text/plain": [
       "0      400000.0\n",
       "1      452734.0\n",
       "2      300000.0\n",
       "3           NaN\n",
       "4      710000.0\n",
       "5      501900.0\n",
       "6      501565.0\n",
       "7      567299.0\n",
       "8           NaN\n",
       "9      898900.0\n",
       "10    9000101.0\n",
       "Name: Salary, dtype: float64"
      ]
     },
     "execution_count": 19,
     "metadata": {},
     "output_type": "execute_result"
    }
   ],
   "source": [
    "df[\"Salary\"].apply(clean)"
   ]
  },
  {
   "cell_type": "code",
   "execution_count": null,
   "metadata": {},
   "outputs": [],
   "source": []
  }
 ],
 "metadata": {
  "interpreter": {
   "hash": "d7ebed62e2a12dc8a3194bbfa7ef46de770c10446ebaf82ca7b2ea3c87934554"
  },
  "kernelspec": {
   "display_name": "Python 3.9.7 64-bit ('digi': conda)",
   "language": "python",
   "name": "python3"
  },
  "language_info": {
   "codemirror_mode": {
    "name": "ipython",
    "version": 3
   },
   "file_extension": ".py",
   "mimetype": "text/x-python",
   "name": "python",
   "nbconvert_exporter": "python",
   "pygments_lexer": "ipython3",
   "version": "3.9.7"
  },
  "orig_nbformat": 4
 },
 "nbformat": 4,
 "nbformat_minor": 2
}
